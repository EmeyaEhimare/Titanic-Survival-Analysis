{
 "cells": [
  {
   "cell_type": "markdown",
   "id": "c74a84f5",
   "metadata": {},
   "source": [
    "# Titanic Dataset Survival Analysis"
   ]
  },
  {
   "cell_type": "markdown",
   "id": "c15e8f94",
   "metadata": {},
   "source": [
    "[Titanic%20au%20d%C3%A9part.jpg](attachment:Titanic%20au%20d%C3%A9part.jpg)"
   ]
  },
  {
   "cell_type": "markdown",
   "id": "e511a025",
   "metadata": {},
   "source": [
    "## Introduction and Objectives:\n",
    "\n",
    "### The analysis aims to explore and gain insights from the Titanic dataset, which contains information about passengers who were on board the ill-fated Titanic. The primary objectives of this analysis are as follows:\n",
    "\n",
    "### Data Exploration: Understand the dataset's structure, examine missing values, and explore the distribution of key variables, such as age, gender, ticket class, and more.\n",
    "\n",
    "### Survival Rate: Calculate and visualize the overall survival rate of passengers on the Titanic.\n",
    "\n",
    "### Ticket Class (Pclass) and Survival: Investigate how the ticket class of passengers relates to their chances of survival.\n",
    "\n",
    "### Gender and Survival: Analyze the impact of gender on passenger survival, including correlation statistics.\n",
    "\n",
    "### Age and Survival: Determine the average age of survivors and non-survivors and visualize age distributions.\n",
    "\n",
    "### Siblings/Spouses (SibSp) and Survival: Explore whether the presence of siblings or spouses affected a passenger's survival rate.\n",
    "\n",
    "### Port of Embarkation and Survival: Investigate if the port from which passengers embarked had any influence on their chances of survival.\n",
    "\n",
    "### Fare and Survival: Examine the correlation between passenger fares and their likelihood of survival.\n",
    "\n",
    "### Age and Ticket Class Correlation: Explore whether there is a correlation between a passenger's age and their ticket class.\n",
    "\n",
    "### Linear Regression Model: Attempt to build a linear regression model to predict passenger survival based on various features.\n",
    "\n",
    "### The analysis provides valuable insights into the factors that influenced the survival of Titanic passengers and helps us better understand this historical event.\n",
    "\n",
    "\n",
    "\n",
    "\n"
   ]
  },
  {
   "cell_type": "code",
   "execution_count": 1,
   "id": "257eb5ff",
   "metadata": {},
   "outputs": [],
   "source": [
    "import numpy as np\n",
    "import pandas as pd\n",
    "import matplotlib.pyplot as plt\n",
    "import seaborn as sns\n",
    "import matplotlib"
   ]
  },
  {
   "cell_type": "code",
   "execution_count": 2,
   "id": "ab0cf6c4",
   "metadata": {},
   "outputs": [],
   "source": [
    "#Read in the csv \n",
    "train_df = pd.read_csv('train.csv')"
   ]
  },
  {
   "cell_type": "code",
   "execution_count": 3,
   "id": "4f12c60e",
   "metadata": {},
   "outputs": [
    {
     "data": {
      "text/html": [
       "<div>\n",
       "<style scoped>\n",
       "    .dataframe tbody tr th:only-of-type {\n",
       "        vertical-align: middle;\n",
       "    }\n",
       "\n",
       "    .dataframe tbody tr th {\n",
       "        vertical-align: top;\n",
       "    }\n",
       "\n",
       "    .dataframe thead th {\n",
       "        text-align: right;\n",
       "    }\n",
       "</style>\n",
       "<table border=\"1\" class=\"dataframe\">\n",
       "  <thead>\n",
       "    <tr style=\"text-align: right;\">\n",
       "      <th></th>\n",
       "      <th>PassengerId</th>\n",
       "      <th>Survived</th>\n",
       "      <th>Pclass</th>\n",
       "      <th>Name</th>\n",
       "      <th>Sex</th>\n",
       "      <th>Age</th>\n",
       "      <th>SibSp</th>\n",
       "      <th>Parch</th>\n",
       "      <th>Ticket</th>\n",
       "      <th>Fare</th>\n",
       "      <th>Cabin</th>\n",
       "      <th>Embarked</th>\n",
       "    </tr>\n",
       "  </thead>\n",
       "  <tbody>\n",
       "    <tr>\n",
       "      <th>0</th>\n",
       "      <td>1</td>\n",
       "      <td>0</td>\n",
       "      <td>3</td>\n",
       "      <td>Braund, Mr. Owen Harris</td>\n",
       "      <td>male</td>\n",
       "      <td>22.0</td>\n",
       "      <td>1</td>\n",
       "      <td>0</td>\n",
       "      <td>A/5 21171</td>\n",
       "      <td>7.2500</td>\n",
       "      <td>NaN</td>\n",
       "      <td>S</td>\n",
       "    </tr>\n",
       "    <tr>\n",
       "      <th>1</th>\n",
       "      <td>2</td>\n",
       "      <td>1</td>\n",
       "      <td>1</td>\n",
       "      <td>Cumings, Mrs. John Bradley (Florence Briggs Th...</td>\n",
       "      <td>female</td>\n",
       "      <td>38.0</td>\n",
       "      <td>1</td>\n",
       "      <td>0</td>\n",
       "      <td>PC 17599</td>\n",
       "      <td>71.2833</td>\n",
       "      <td>C85</td>\n",
       "      <td>C</td>\n",
       "    </tr>\n",
       "    <tr>\n",
       "      <th>2</th>\n",
       "      <td>3</td>\n",
       "      <td>1</td>\n",
       "      <td>3</td>\n",
       "      <td>Heikkinen, Miss. Laina</td>\n",
       "      <td>female</td>\n",
       "      <td>26.0</td>\n",
       "      <td>0</td>\n",
       "      <td>0</td>\n",
       "      <td>STON/O2. 3101282</td>\n",
       "      <td>7.9250</td>\n",
       "      <td>NaN</td>\n",
       "      <td>S</td>\n",
       "    </tr>\n",
       "    <tr>\n",
       "      <th>3</th>\n",
       "      <td>4</td>\n",
       "      <td>1</td>\n",
       "      <td>1</td>\n",
       "      <td>Futrelle, Mrs. Jacques Heath (Lily May Peel)</td>\n",
       "      <td>female</td>\n",
       "      <td>35.0</td>\n",
       "      <td>1</td>\n",
       "      <td>0</td>\n",
       "      <td>113803</td>\n",
       "      <td>53.1000</td>\n",
       "      <td>C123</td>\n",
       "      <td>S</td>\n",
       "    </tr>\n",
       "    <tr>\n",
       "      <th>4</th>\n",
       "      <td>5</td>\n",
       "      <td>0</td>\n",
       "      <td>3</td>\n",
       "      <td>Allen, Mr. William Henry</td>\n",
       "      <td>male</td>\n",
       "      <td>35.0</td>\n",
       "      <td>0</td>\n",
       "      <td>0</td>\n",
       "      <td>373450</td>\n",
       "      <td>8.0500</td>\n",
       "      <td>NaN</td>\n",
       "      <td>S</td>\n",
       "    </tr>\n",
       "  </tbody>\n",
       "</table>\n",
       "</div>"
      ],
      "text/plain": [
       "   PassengerId  Survived  Pclass  \\\n",
       "0            1         0       3   \n",
       "1            2         1       1   \n",
       "2            3         1       3   \n",
       "3            4         1       1   \n",
       "4            5         0       3   \n",
       "\n",
       "                                                Name     Sex   Age  SibSp  \\\n",
       "0                            Braund, Mr. Owen Harris    male  22.0      1   \n",
       "1  Cumings, Mrs. John Bradley (Florence Briggs Th...  female  38.0      1   \n",
       "2                             Heikkinen, Miss. Laina  female  26.0      0   \n",
       "3       Futrelle, Mrs. Jacques Heath (Lily May Peel)  female  35.0      1   \n",
       "4                           Allen, Mr. William Henry    male  35.0      0   \n",
       "\n",
       "   Parch            Ticket     Fare Cabin Embarked  \n",
       "0      0         A/5 21171   7.2500   NaN        S  \n",
       "1      0          PC 17599  71.2833   C85        C  \n",
       "2      0  STON/O2. 3101282   7.9250   NaN        S  \n",
       "3      0            113803  53.1000  C123        S  \n",
       "4      0            373450   8.0500   NaN        S  "
      ]
     },
     "execution_count": 3,
     "metadata": {},
     "output_type": "execute_result"
    }
   ],
   "source": [
    "train_df.head()"
   ]
  },
  {
   "cell_type": "code",
   "execution_count": 4,
   "id": "60a1cbd1",
   "metadata": {},
   "outputs": [],
   "source": [
    "test_df = pd.read_csv('test.csv')"
   ]
  },
  {
   "cell_type": "code",
   "execution_count": 5,
   "id": "c4d32bd6",
   "metadata": {},
   "outputs": [
    {
     "data": {
      "text/html": [
       "<div>\n",
       "<style scoped>\n",
       "    .dataframe tbody tr th:only-of-type {\n",
       "        vertical-align: middle;\n",
       "    }\n",
       "\n",
       "    .dataframe tbody tr th {\n",
       "        vertical-align: top;\n",
       "    }\n",
       "\n",
       "    .dataframe thead th {\n",
       "        text-align: right;\n",
       "    }\n",
       "</style>\n",
       "<table border=\"1\" class=\"dataframe\">\n",
       "  <thead>\n",
       "    <tr style=\"text-align: right;\">\n",
       "      <th></th>\n",
       "      <th>PassengerId</th>\n",
       "      <th>Pclass</th>\n",
       "      <th>Name</th>\n",
       "      <th>Sex</th>\n",
       "      <th>Age</th>\n",
       "      <th>SibSp</th>\n",
       "      <th>Parch</th>\n",
       "      <th>Ticket</th>\n",
       "      <th>Fare</th>\n",
       "      <th>Cabin</th>\n",
       "      <th>Embarked</th>\n",
       "    </tr>\n",
       "  </thead>\n",
       "  <tbody>\n",
       "    <tr>\n",
       "      <th>0</th>\n",
       "      <td>892</td>\n",
       "      <td>3</td>\n",
       "      <td>Kelly, Mr. James</td>\n",
       "      <td>male</td>\n",
       "      <td>34.5</td>\n",
       "      <td>0</td>\n",
       "      <td>0</td>\n",
       "      <td>330911</td>\n",
       "      <td>7.8292</td>\n",
       "      <td>NaN</td>\n",
       "      <td>Q</td>\n",
       "    </tr>\n",
       "    <tr>\n",
       "      <th>1</th>\n",
       "      <td>893</td>\n",
       "      <td>3</td>\n",
       "      <td>Wilkes, Mrs. James (Ellen Needs)</td>\n",
       "      <td>female</td>\n",
       "      <td>47.0</td>\n",
       "      <td>1</td>\n",
       "      <td>0</td>\n",
       "      <td>363272</td>\n",
       "      <td>7.0000</td>\n",
       "      <td>NaN</td>\n",
       "      <td>S</td>\n",
       "    </tr>\n",
       "    <tr>\n",
       "      <th>2</th>\n",
       "      <td>894</td>\n",
       "      <td>2</td>\n",
       "      <td>Myles, Mr. Thomas Francis</td>\n",
       "      <td>male</td>\n",
       "      <td>62.0</td>\n",
       "      <td>0</td>\n",
       "      <td>0</td>\n",
       "      <td>240276</td>\n",
       "      <td>9.6875</td>\n",
       "      <td>NaN</td>\n",
       "      <td>Q</td>\n",
       "    </tr>\n",
       "    <tr>\n",
       "      <th>3</th>\n",
       "      <td>895</td>\n",
       "      <td>3</td>\n",
       "      <td>Wirz, Mr. Albert</td>\n",
       "      <td>male</td>\n",
       "      <td>27.0</td>\n",
       "      <td>0</td>\n",
       "      <td>0</td>\n",
       "      <td>315154</td>\n",
       "      <td>8.6625</td>\n",
       "      <td>NaN</td>\n",
       "      <td>S</td>\n",
       "    </tr>\n",
       "    <tr>\n",
       "      <th>4</th>\n",
       "      <td>896</td>\n",
       "      <td>3</td>\n",
       "      <td>Hirvonen, Mrs. Alexander (Helga E Lindqvist)</td>\n",
       "      <td>female</td>\n",
       "      <td>22.0</td>\n",
       "      <td>1</td>\n",
       "      <td>1</td>\n",
       "      <td>3101298</td>\n",
       "      <td>12.2875</td>\n",
       "      <td>NaN</td>\n",
       "      <td>S</td>\n",
       "    </tr>\n",
       "  </tbody>\n",
       "</table>\n",
       "</div>"
      ],
      "text/plain": [
       "   PassengerId  Pclass                                          Name     Sex  \\\n",
       "0          892       3                              Kelly, Mr. James    male   \n",
       "1          893       3              Wilkes, Mrs. James (Ellen Needs)  female   \n",
       "2          894       2                     Myles, Mr. Thomas Francis    male   \n",
       "3          895       3                              Wirz, Mr. Albert    male   \n",
       "4          896       3  Hirvonen, Mrs. Alexander (Helga E Lindqvist)  female   \n",
       "\n",
       "    Age  SibSp  Parch   Ticket     Fare Cabin Embarked  \n",
       "0  34.5      0      0   330911   7.8292   NaN        Q  \n",
       "1  47.0      1      0   363272   7.0000   NaN        S  \n",
       "2  62.0      0      0   240276   9.6875   NaN        Q  \n",
       "3  27.0      0      0   315154   8.6625   NaN        S  \n",
       "4  22.0      1      1  3101298  12.2875   NaN        S  "
      ]
     },
     "execution_count": 5,
     "metadata": {},
     "output_type": "execute_result"
    }
   ],
   "source": [
    "test_df.head()"
   ]
  },
  {
   "cell_type": "code",
   "execution_count": 6,
   "id": "6b24c03e",
   "metadata": {},
   "outputs": [],
   "source": [
    "#Merge both train and test dataset\n",
    "df = pd.merge(train_df,test_df, how = 'left')"
   ]
  },
  {
   "cell_type": "code",
   "execution_count": 7,
   "id": "573eb047",
   "metadata": {},
   "outputs": [
    {
     "data": {
      "text/html": [
       "<div>\n",
       "<style scoped>\n",
       "    .dataframe tbody tr th:only-of-type {\n",
       "        vertical-align: middle;\n",
       "    }\n",
       "\n",
       "    .dataframe tbody tr th {\n",
       "        vertical-align: top;\n",
       "    }\n",
       "\n",
       "    .dataframe thead th {\n",
       "        text-align: right;\n",
       "    }\n",
       "</style>\n",
       "<table border=\"1\" class=\"dataframe\">\n",
       "  <thead>\n",
       "    <tr style=\"text-align: right;\">\n",
       "      <th></th>\n",
       "      <th>PassengerId</th>\n",
       "      <th>Survived</th>\n",
       "      <th>Pclass</th>\n",
       "      <th>Name</th>\n",
       "      <th>Sex</th>\n",
       "      <th>Age</th>\n",
       "      <th>SibSp</th>\n",
       "      <th>Parch</th>\n",
       "      <th>Ticket</th>\n",
       "      <th>Fare</th>\n",
       "      <th>Cabin</th>\n",
       "      <th>Embarked</th>\n",
       "    </tr>\n",
       "  </thead>\n",
       "  <tbody>\n",
       "    <tr>\n",
       "      <th>0</th>\n",
       "      <td>1</td>\n",
       "      <td>0</td>\n",
       "      <td>3</td>\n",
       "      <td>Braund, Mr. Owen Harris</td>\n",
       "      <td>male</td>\n",
       "      <td>22.0</td>\n",
       "      <td>1</td>\n",
       "      <td>0</td>\n",
       "      <td>A/5 21171</td>\n",
       "      <td>7.2500</td>\n",
       "      <td>NaN</td>\n",
       "      <td>S</td>\n",
       "    </tr>\n",
       "    <tr>\n",
       "      <th>1</th>\n",
       "      <td>2</td>\n",
       "      <td>1</td>\n",
       "      <td>1</td>\n",
       "      <td>Cumings, Mrs. John Bradley (Florence Briggs Th...</td>\n",
       "      <td>female</td>\n",
       "      <td>38.0</td>\n",
       "      <td>1</td>\n",
       "      <td>0</td>\n",
       "      <td>PC 17599</td>\n",
       "      <td>71.2833</td>\n",
       "      <td>C85</td>\n",
       "      <td>C</td>\n",
       "    </tr>\n",
       "    <tr>\n",
       "      <th>2</th>\n",
       "      <td>3</td>\n",
       "      <td>1</td>\n",
       "      <td>3</td>\n",
       "      <td>Heikkinen, Miss. Laina</td>\n",
       "      <td>female</td>\n",
       "      <td>26.0</td>\n",
       "      <td>0</td>\n",
       "      <td>0</td>\n",
       "      <td>STON/O2. 3101282</td>\n",
       "      <td>7.9250</td>\n",
       "      <td>NaN</td>\n",
       "      <td>S</td>\n",
       "    </tr>\n",
       "    <tr>\n",
       "      <th>3</th>\n",
       "      <td>4</td>\n",
       "      <td>1</td>\n",
       "      <td>1</td>\n",
       "      <td>Futrelle, Mrs. Jacques Heath (Lily May Peel)</td>\n",
       "      <td>female</td>\n",
       "      <td>35.0</td>\n",
       "      <td>1</td>\n",
       "      <td>0</td>\n",
       "      <td>113803</td>\n",
       "      <td>53.1000</td>\n",
       "      <td>C123</td>\n",
       "      <td>S</td>\n",
       "    </tr>\n",
       "    <tr>\n",
       "      <th>4</th>\n",
       "      <td>5</td>\n",
       "      <td>0</td>\n",
       "      <td>3</td>\n",
       "      <td>Allen, Mr. William Henry</td>\n",
       "      <td>male</td>\n",
       "      <td>35.0</td>\n",
       "      <td>0</td>\n",
       "      <td>0</td>\n",
       "      <td>373450</td>\n",
       "      <td>8.0500</td>\n",
       "      <td>NaN</td>\n",
       "      <td>S</td>\n",
       "    </tr>\n",
       "  </tbody>\n",
       "</table>\n",
       "</div>"
      ],
      "text/plain": [
       "   PassengerId  Survived  Pclass  \\\n",
       "0            1         0       3   \n",
       "1            2         1       1   \n",
       "2            3         1       3   \n",
       "3            4         1       1   \n",
       "4            5         0       3   \n",
       "\n",
       "                                                Name     Sex   Age  SibSp  \\\n",
       "0                            Braund, Mr. Owen Harris    male  22.0      1   \n",
       "1  Cumings, Mrs. John Bradley (Florence Briggs Th...  female  38.0      1   \n",
       "2                             Heikkinen, Miss. Laina  female  26.0      0   \n",
       "3       Futrelle, Mrs. Jacques Heath (Lily May Peel)  female  35.0      1   \n",
       "4                           Allen, Mr. William Henry    male  35.0      0   \n",
       "\n",
       "   Parch            Ticket     Fare Cabin Embarked  \n",
       "0      0         A/5 21171   7.2500   NaN        S  \n",
       "1      0          PC 17599  71.2833   C85        C  \n",
       "2      0  STON/O2. 3101282   7.9250   NaN        S  \n",
       "3      0            113803  53.1000  C123        S  \n",
       "4      0            373450   8.0500   NaN        S  "
      ]
     },
     "execution_count": 7,
     "metadata": {},
     "output_type": "execute_result"
    }
   ],
   "source": [
    "df.head()"
   ]
  },
  {
   "cell_type": "code",
   "execution_count": 8,
   "id": "ae4efec7",
   "metadata": {},
   "outputs": [
    {
     "name": "stdout",
     "output_type": "stream",
     "text": [
      "<class 'pandas.core.frame.DataFrame'>\n",
      "Int64Index: 891 entries, 0 to 890\n",
      "Data columns (total 12 columns):\n",
      " #   Column       Non-Null Count  Dtype  \n",
      "---  ------       --------------  -----  \n",
      " 0   PassengerId  891 non-null    int64  \n",
      " 1   Survived     891 non-null    int64  \n",
      " 2   Pclass       891 non-null    int64  \n",
      " 3   Name         891 non-null    object \n",
      " 4   Sex          891 non-null    object \n",
      " 5   Age          714 non-null    float64\n",
      " 6   SibSp        891 non-null    int64  \n",
      " 7   Parch        891 non-null    int64  \n",
      " 8   Ticket       891 non-null    object \n",
      " 9   Fare         891 non-null    float64\n",
      " 10  Cabin        204 non-null    object \n",
      " 11  Embarked     889 non-null    object \n",
      "dtypes: float64(2), int64(5), object(5)\n",
      "memory usage: 90.5+ KB\n"
     ]
    }
   ],
   "source": [
    "#Observe the dataset\n",
    "df.info()"
   ]
  },
  {
   "cell_type": "code",
   "execution_count": 9,
   "id": "080a3b21",
   "metadata": {},
   "outputs": [
    {
     "data": {
      "text/html": [
       "<div>\n",
       "<style scoped>\n",
       "    .dataframe tbody tr th:only-of-type {\n",
       "        vertical-align: middle;\n",
       "    }\n",
       "\n",
       "    .dataframe tbody tr th {\n",
       "        vertical-align: top;\n",
       "    }\n",
       "\n",
       "    .dataframe thead th {\n",
       "        text-align: right;\n",
       "    }\n",
       "</style>\n",
       "<table border=\"1\" class=\"dataframe\">\n",
       "  <thead>\n",
       "    <tr style=\"text-align: right;\">\n",
       "      <th></th>\n",
       "      <th>count</th>\n",
       "      <th>mean</th>\n",
       "      <th>std</th>\n",
       "      <th>min</th>\n",
       "      <th>25%</th>\n",
       "      <th>50%</th>\n",
       "      <th>75%</th>\n",
       "      <th>max</th>\n",
       "    </tr>\n",
       "  </thead>\n",
       "  <tbody>\n",
       "    <tr>\n",
       "      <th>PassengerId</th>\n",
       "      <td>891.0</td>\n",
       "      <td>446.000000</td>\n",
       "      <td>257.353842</td>\n",
       "      <td>1.00</td>\n",
       "      <td>223.5000</td>\n",
       "      <td>446.0000</td>\n",
       "      <td>668.5</td>\n",
       "      <td>891.0000</td>\n",
       "    </tr>\n",
       "    <tr>\n",
       "      <th>Survived</th>\n",
       "      <td>891.0</td>\n",
       "      <td>0.383838</td>\n",
       "      <td>0.486592</td>\n",
       "      <td>0.00</td>\n",
       "      <td>0.0000</td>\n",
       "      <td>0.0000</td>\n",
       "      <td>1.0</td>\n",
       "      <td>1.0000</td>\n",
       "    </tr>\n",
       "    <tr>\n",
       "      <th>Pclass</th>\n",
       "      <td>891.0</td>\n",
       "      <td>2.308642</td>\n",
       "      <td>0.836071</td>\n",
       "      <td>1.00</td>\n",
       "      <td>2.0000</td>\n",
       "      <td>3.0000</td>\n",
       "      <td>3.0</td>\n",
       "      <td>3.0000</td>\n",
       "    </tr>\n",
       "    <tr>\n",
       "      <th>Age</th>\n",
       "      <td>714.0</td>\n",
       "      <td>29.699118</td>\n",
       "      <td>14.526497</td>\n",
       "      <td>0.42</td>\n",
       "      <td>20.1250</td>\n",
       "      <td>28.0000</td>\n",
       "      <td>38.0</td>\n",
       "      <td>80.0000</td>\n",
       "    </tr>\n",
       "    <tr>\n",
       "      <th>SibSp</th>\n",
       "      <td>891.0</td>\n",
       "      <td>0.523008</td>\n",
       "      <td>1.102743</td>\n",
       "      <td>0.00</td>\n",
       "      <td>0.0000</td>\n",
       "      <td>0.0000</td>\n",
       "      <td>1.0</td>\n",
       "      <td>8.0000</td>\n",
       "    </tr>\n",
       "    <tr>\n",
       "      <th>Parch</th>\n",
       "      <td>891.0</td>\n",
       "      <td>0.381594</td>\n",
       "      <td>0.806057</td>\n",
       "      <td>0.00</td>\n",
       "      <td>0.0000</td>\n",
       "      <td>0.0000</td>\n",
       "      <td>0.0</td>\n",
       "      <td>6.0000</td>\n",
       "    </tr>\n",
       "    <tr>\n",
       "      <th>Fare</th>\n",
       "      <td>891.0</td>\n",
       "      <td>32.204208</td>\n",
       "      <td>49.693429</td>\n",
       "      <td>0.00</td>\n",
       "      <td>7.9104</td>\n",
       "      <td>14.4542</td>\n",
       "      <td>31.0</td>\n",
       "      <td>512.3292</td>\n",
       "    </tr>\n",
       "  </tbody>\n",
       "</table>\n",
       "</div>"
      ],
      "text/plain": [
       "             count        mean         std   min       25%       50%    75%  \\\n",
       "PassengerId  891.0  446.000000  257.353842  1.00  223.5000  446.0000  668.5   \n",
       "Survived     891.0    0.383838    0.486592  0.00    0.0000    0.0000    1.0   \n",
       "Pclass       891.0    2.308642    0.836071  1.00    2.0000    3.0000    3.0   \n",
       "Age          714.0   29.699118   14.526497  0.42   20.1250   28.0000   38.0   \n",
       "SibSp        891.0    0.523008    1.102743  0.00    0.0000    0.0000    1.0   \n",
       "Parch        891.0    0.381594    0.806057  0.00    0.0000    0.0000    0.0   \n",
       "Fare         891.0   32.204208   49.693429  0.00    7.9104   14.4542   31.0   \n",
       "\n",
       "                  max  \n",
       "PassengerId  891.0000  \n",
       "Survived       1.0000  \n",
       "Pclass         3.0000  \n",
       "Age           80.0000  \n",
       "SibSp          8.0000  \n",
       "Parch          6.0000  \n",
       "Fare         512.3292  "
      ]
     },
     "execution_count": 9,
     "metadata": {},
     "output_type": "execute_result"
    }
   ],
   "source": [
    "df.describe().transpose()"
   ]
  },
  {
   "cell_type": "code",
   "execution_count": 10,
   "id": "838f58a2",
   "metadata": {},
   "outputs": [
    {
     "name": "stderr",
     "output_type": "stream",
     "text": [
      "C:\\Users\\victo\\AppData\\Local\\Temp\\ipykernel_3044\\1134722465.py:1: FutureWarning: The default value of numeric_only in DataFrame.corr is deprecated. In a future version, it will default to False. Select only valid columns or specify the value of numeric_only to silence this warning.\n",
      "  df.corr()\n"
     ]
    },
    {
     "data": {
      "text/html": [
       "<div>\n",
       "<style scoped>\n",
       "    .dataframe tbody tr th:only-of-type {\n",
       "        vertical-align: middle;\n",
       "    }\n",
       "\n",
       "    .dataframe tbody tr th {\n",
       "        vertical-align: top;\n",
       "    }\n",
       "\n",
       "    .dataframe thead th {\n",
       "        text-align: right;\n",
       "    }\n",
       "</style>\n",
       "<table border=\"1\" class=\"dataframe\">\n",
       "  <thead>\n",
       "    <tr style=\"text-align: right;\">\n",
       "      <th></th>\n",
       "      <th>PassengerId</th>\n",
       "      <th>Survived</th>\n",
       "      <th>Pclass</th>\n",
       "      <th>Age</th>\n",
       "      <th>SibSp</th>\n",
       "      <th>Parch</th>\n",
       "      <th>Fare</th>\n",
       "    </tr>\n",
       "  </thead>\n",
       "  <tbody>\n",
       "    <tr>\n",
       "      <th>PassengerId</th>\n",
       "      <td>1.000000</td>\n",
       "      <td>-0.005007</td>\n",
       "      <td>-0.035144</td>\n",
       "      <td>0.036847</td>\n",
       "      <td>-0.057527</td>\n",
       "      <td>-0.001652</td>\n",
       "      <td>0.012658</td>\n",
       "    </tr>\n",
       "    <tr>\n",
       "      <th>Survived</th>\n",
       "      <td>-0.005007</td>\n",
       "      <td>1.000000</td>\n",
       "      <td>-0.338481</td>\n",
       "      <td>-0.077221</td>\n",
       "      <td>-0.035322</td>\n",
       "      <td>0.081629</td>\n",
       "      <td>0.257307</td>\n",
       "    </tr>\n",
       "    <tr>\n",
       "      <th>Pclass</th>\n",
       "      <td>-0.035144</td>\n",
       "      <td>-0.338481</td>\n",
       "      <td>1.000000</td>\n",
       "      <td>-0.369226</td>\n",
       "      <td>0.083081</td>\n",
       "      <td>0.018443</td>\n",
       "      <td>-0.549500</td>\n",
       "    </tr>\n",
       "    <tr>\n",
       "      <th>Age</th>\n",
       "      <td>0.036847</td>\n",
       "      <td>-0.077221</td>\n",
       "      <td>-0.369226</td>\n",
       "      <td>1.000000</td>\n",
       "      <td>-0.308247</td>\n",
       "      <td>-0.189119</td>\n",
       "      <td>0.096067</td>\n",
       "    </tr>\n",
       "    <tr>\n",
       "      <th>SibSp</th>\n",
       "      <td>-0.057527</td>\n",
       "      <td>-0.035322</td>\n",
       "      <td>0.083081</td>\n",
       "      <td>-0.308247</td>\n",
       "      <td>1.000000</td>\n",
       "      <td>0.414838</td>\n",
       "      <td>0.159651</td>\n",
       "    </tr>\n",
       "    <tr>\n",
       "      <th>Parch</th>\n",
       "      <td>-0.001652</td>\n",
       "      <td>0.081629</td>\n",
       "      <td>0.018443</td>\n",
       "      <td>-0.189119</td>\n",
       "      <td>0.414838</td>\n",
       "      <td>1.000000</td>\n",
       "      <td>0.216225</td>\n",
       "    </tr>\n",
       "    <tr>\n",
       "      <th>Fare</th>\n",
       "      <td>0.012658</td>\n",
       "      <td>0.257307</td>\n",
       "      <td>-0.549500</td>\n",
       "      <td>0.096067</td>\n",
       "      <td>0.159651</td>\n",
       "      <td>0.216225</td>\n",
       "      <td>1.000000</td>\n",
       "    </tr>\n",
       "  </tbody>\n",
       "</table>\n",
       "</div>"
      ],
      "text/plain": [
       "             PassengerId  Survived    Pclass       Age     SibSp     Parch  \\\n",
       "PassengerId     1.000000 -0.005007 -0.035144  0.036847 -0.057527 -0.001652   \n",
       "Survived       -0.005007  1.000000 -0.338481 -0.077221 -0.035322  0.081629   \n",
       "Pclass         -0.035144 -0.338481  1.000000 -0.369226  0.083081  0.018443   \n",
       "Age             0.036847 -0.077221 -0.369226  1.000000 -0.308247 -0.189119   \n",
       "SibSp          -0.057527 -0.035322  0.083081 -0.308247  1.000000  0.414838   \n",
       "Parch          -0.001652  0.081629  0.018443 -0.189119  0.414838  1.000000   \n",
       "Fare            0.012658  0.257307 -0.549500  0.096067  0.159651  0.216225   \n",
       "\n",
       "                 Fare  \n",
       "PassengerId  0.012658  \n",
       "Survived     0.257307  \n",
       "Pclass      -0.549500  \n",
       "Age          0.096067  \n",
       "SibSp        0.159651  \n",
       "Parch        0.216225  \n",
       "Fare         1.000000  "
      ]
     },
     "execution_count": 10,
     "metadata": {},
     "output_type": "execute_result"
    }
   ],
   "source": [
    "df.corr()"
   ]
  },
  {
   "cell_type": "code",
   "execution_count": 11,
   "id": "435f79a4",
   "metadata": {},
   "outputs": [
    {
     "data": {
      "text/plain": [
       "Index(['PassengerId', 'Survived', 'Pclass', 'Name', 'Sex', 'Age', 'SibSp',\n",
       "       'Parch', 'Ticket', 'Fare', 'Cabin', 'Embarked'],\n",
       "      dtype='object')"
      ]
     },
     "execution_count": 11,
     "metadata": {},
     "output_type": "execute_result"
    }
   ],
   "source": [
    "df.columns"
   ]
  },
  {
   "cell_type": "markdown",
   "id": "d92205e9",
   "metadata": {},
   "source": [
    "### Data Dictionary\n",
    "* survival\tSurvival\t0 = No, 1 = Yes\n",
    "* pclass\tTicket class\t1 = 1st, 2 = 2nd, 3 = 3rd\n",
    "* sex\t0 = male, 1 = female\n",
    "* Age\tAge in years\t\n",
    "* sibsp\tNumber of siblings / spouses aboard the Titanic\t\n",
    "* parch\tNumber of parents / children aboard the Titanic\t\n",
    "* ticket\tTicket number\t\n",
    "* fare\tPassenger fare\t\n",
    "* cabin\tCabin number\t\n",
    "* embarked\tPort of Embarkation\tC = Cherbourg, Q = Queenstown, S = Southampton"
   ]
  },
  {
   "cell_type": "markdown",
   "id": "630c66f5",
   "metadata": {},
   "source": [
    "### Analysing The Data\n",
    "* Missing Values\n",
    "* Exploring Categorical Data\n",
    "* Exploring Numerical Data\n",
    "* Exploring Relationships between the features"
   ]
  },
  {
   "cell_type": "markdown",
   "id": "d7fdbc11",
   "metadata": {},
   "source": [
    "###### Checking For Missing Values"
   ]
  },
  {
   "cell_type": "code",
   "execution_count": 12,
   "id": "4e49eeaf",
   "metadata": {},
   "outputs": [
    {
     "data": {
      "text/plain": [
       "PassengerId    891\n",
       "Survived       891\n",
       "Pclass         891\n",
       "Name           891\n",
       "Sex            891\n",
       "Age            714\n",
       "SibSp          891\n",
       "Parch          891\n",
       "Ticket         891\n",
       "Fare           891\n",
       "Cabin          204\n",
       "Embarked       889\n",
       "dtype: int64"
      ]
     },
     "execution_count": 12,
     "metadata": {},
     "output_type": "execute_result"
    }
   ],
   "source": [
    "df.notnull().sum()"
   ]
  },
  {
   "cell_type": "code",
   "execution_count": 13,
   "id": "ffd3f08d",
   "metadata": {},
   "outputs": [
    {
     "data": {
      "text/plain": [
       "['Age', 'Cabin', 'Embarked']"
      ]
     },
     "execution_count": 13,
     "metadata": {},
     "output_type": "execute_result"
    }
   ],
   "source": [
    "#Checking the features with null values\n",
    "[features for features in df.columns if df[features].isnull().sum() > 0]"
   ]
  },
  {
   "cell_type": "markdown",
   "id": "972497fa",
   "metadata": {},
   "source": [
    "###### Dealing with the categorical data"
   ]
  },
  {
   "cell_type": "code",
   "execution_count": 14,
   "id": "d29f3eaa",
   "metadata": {},
   "outputs": [],
   "source": [
    "df['Sex'] = df['Sex'].map({'male':0, 'female':1})"
   ]
  },
  {
   "cell_type": "code",
   "execution_count": 15,
   "id": "135b4dcd",
   "metadata": {},
   "outputs": [
    {
     "data": {
      "text/plain": [
       "array([0, 1], dtype=int64)"
      ]
     },
     "execution_count": 15,
     "metadata": {},
     "output_type": "execute_result"
    }
   ],
   "source": [
    "df['Sex'].unique()"
   ]
  },
  {
   "cell_type": "code",
   "execution_count": 16,
   "id": "827b1e41",
   "metadata": {},
   "outputs": [
    {
     "data": {
      "text/html": [
       "<div>\n",
       "<style scoped>\n",
       "    .dataframe tbody tr th:only-of-type {\n",
       "        vertical-align: middle;\n",
       "    }\n",
       "\n",
       "    .dataframe tbody tr th {\n",
       "        vertical-align: top;\n",
       "    }\n",
       "\n",
       "    .dataframe thead th {\n",
       "        text-align: right;\n",
       "    }\n",
       "</style>\n",
       "<table border=\"1\" class=\"dataframe\">\n",
       "  <thead>\n",
       "    <tr style=\"text-align: right;\">\n",
       "      <th></th>\n",
       "      <th>PassengerId</th>\n",
       "      <th>Survived</th>\n",
       "      <th>Pclass</th>\n",
       "      <th>Name</th>\n",
       "      <th>Sex</th>\n",
       "      <th>Age</th>\n",
       "      <th>SibSp</th>\n",
       "      <th>Parch</th>\n",
       "      <th>Ticket</th>\n",
       "      <th>Fare</th>\n",
       "      <th>Cabin</th>\n",
       "      <th>Embarked</th>\n",
       "    </tr>\n",
       "  </thead>\n",
       "  <tbody>\n",
       "    <tr>\n",
       "      <th>0</th>\n",
       "      <td>1</td>\n",
       "      <td>0</td>\n",
       "      <td>3</td>\n",
       "      <td>Braund, Mr. Owen Harris</td>\n",
       "      <td>0</td>\n",
       "      <td>22.0</td>\n",
       "      <td>1</td>\n",
       "      <td>0</td>\n",
       "      <td>A/5 21171</td>\n",
       "      <td>7.2500</td>\n",
       "      <td>NaN</td>\n",
       "      <td>S</td>\n",
       "    </tr>\n",
       "    <tr>\n",
       "      <th>1</th>\n",
       "      <td>2</td>\n",
       "      <td>1</td>\n",
       "      <td>1</td>\n",
       "      <td>Cumings, Mrs. John Bradley (Florence Briggs Th...</td>\n",
       "      <td>1</td>\n",
       "      <td>38.0</td>\n",
       "      <td>1</td>\n",
       "      <td>0</td>\n",
       "      <td>PC 17599</td>\n",
       "      <td>71.2833</td>\n",
       "      <td>C85</td>\n",
       "      <td>C</td>\n",
       "    </tr>\n",
       "    <tr>\n",
       "      <th>2</th>\n",
       "      <td>3</td>\n",
       "      <td>1</td>\n",
       "      <td>3</td>\n",
       "      <td>Heikkinen, Miss. Laina</td>\n",
       "      <td>1</td>\n",
       "      <td>26.0</td>\n",
       "      <td>0</td>\n",
       "      <td>0</td>\n",
       "      <td>STON/O2. 3101282</td>\n",
       "      <td>7.9250</td>\n",
       "      <td>NaN</td>\n",
       "      <td>S</td>\n",
       "    </tr>\n",
       "    <tr>\n",
       "      <th>3</th>\n",
       "      <td>4</td>\n",
       "      <td>1</td>\n",
       "      <td>1</td>\n",
       "      <td>Futrelle, Mrs. Jacques Heath (Lily May Peel)</td>\n",
       "      <td>1</td>\n",
       "      <td>35.0</td>\n",
       "      <td>1</td>\n",
       "      <td>0</td>\n",
       "      <td>113803</td>\n",
       "      <td>53.1000</td>\n",
       "      <td>C123</td>\n",
       "      <td>S</td>\n",
       "    </tr>\n",
       "    <tr>\n",
       "      <th>4</th>\n",
       "      <td>5</td>\n",
       "      <td>0</td>\n",
       "      <td>3</td>\n",
       "      <td>Allen, Mr. William Henry</td>\n",
       "      <td>0</td>\n",
       "      <td>35.0</td>\n",
       "      <td>0</td>\n",
       "      <td>0</td>\n",
       "      <td>373450</td>\n",
       "      <td>8.0500</td>\n",
       "      <td>NaN</td>\n",
       "      <td>S</td>\n",
       "    </tr>\n",
       "  </tbody>\n",
       "</table>\n",
       "</div>"
      ],
      "text/plain": [
       "   PassengerId  Survived  Pclass  \\\n",
       "0            1         0       3   \n",
       "1            2         1       1   \n",
       "2            3         1       3   \n",
       "3            4         1       1   \n",
       "4            5         0       3   \n",
       "\n",
       "                                                Name  Sex   Age  SibSp  Parch  \\\n",
       "0                            Braund, Mr. Owen Harris    0  22.0      1      0   \n",
       "1  Cumings, Mrs. John Bradley (Florence Briggs Th...    1  38.0      1      0   \n",
       "2                             Heikkinen, Miss. Laina    1  26.0      0      0   \n",
       "3       Futrelle, Mrs. Jacques Heath (Lily May Peel)    1  35.0      1      0   \n",
       "4                           Allen, Mr. William Henry    0  35.0      0      0   \n",
       "\n",
       "             Ticket     Fare Cabin Embarked  \n",
       "0         A/5 21171   7.2500   NaN        S  \n",
       "1          PC 17599  71.2833   C85        C  \n",
       "2  STON/O2. 3101282   7.9250   NaN        S  \n",
       "3            113803  53.1000  C123        S  \n",
       "4            373450   8.0500   NaN        S  "
      ]
     },
     "execution_count": 16,
     "metadata": {},
     "output_type": "execute_result"
    }
   ],
   "source": [
    "df.head()"
   ]
  },
  {
   "cell_type": "code",
   "execution_count": 17,
   "id": "a195d1a7",
   "metadata": {},
   "outputs": [],
   "source": [
    "### Evaluating Numerical data"
   ]
  },
  {
   "cell_type": "markdown",
   "id": "114d6fff",
   "metadata": {},
   "source": [
    "###### Checking the number Of Males And Females On Board"
   ]
  },
  {
   "cell_type": "code",
   "execution_count": 18,
   "id": "5408f98c",
   "metadata": {},
   "outputs": [
    {
     "data": {
      "text/html": [
       "<div>\n",
       "<style scoped>\n",
       "    .dataframe tbody tr th:only-of-type {\n",
       "        vertical-align: middle;\n",
       "    }\n",
       "\n",
       "    .dataframe tbody tr th {\n",
       "        vertical-align: top;\n",
       "    }\n",
       "\n",
       "    .dataframe thead th {\n",
       "        text-align: right;\n",
       "    }\n",
       "</style>\n",
       "<table border=\"1\" class=\"dataframe\">\n",
       "  <thead>\n",
       "    <tr style=\"text-align: right;\">\n",
       "      <th></th>\n",
       "      <th>Sex</th>\n",
       "      <th>Count</th>\n",
       "    </tr>\n",
       "  </thead>\n",
       "  <tbody>\n",
       "    <tr>\n",
       "      <th>0</th>\n",
       "      <td>0</td>\n",
       "      <td>577</td>\n",
       "    </tr>\n",
       "    <tr>\n",
       "      <th>1</th>\n",
       "      <td>1</td>\n",
       "      <td>314</td>\n",
       "    </tr>\n",
       "  </tbody>\n",
       "</table>\n",
       "</div>"
      ],
      "text/plain": [
       "   Sex  Count\n",
       "0    0    577\n",
       "1    1    314"
      ]
     },
     "execution_count": 18,
     "metadata": {},
     "output_type": "execute_result"
    }
   ],
   "source": [
    "df['Sex'].value_counts().reset_index().rename(columns = {'index':'Sex', 'Sex':'Count'})"
   ]
  },
  {
   "cell_type": "code",
   "execution_count": 19,
   "id": "fd044b54",
   "metadata": {},
   "outputs": [
    {
     "data": {
      "text/plain": [
       "<Axes: xlabel='Sex', ylabel='count'>"
      ]
     },
     "execution_count": 19,
     "metadata": {},
     "output_type": "execute_result"
    },
    {
     "data": {
      "image/png": "[encoded data removed]",
      "text/plain": [
       "<Figure size 640x480 with 1 Axes>"
      ]
     },
     "metadata": {},
     "output_type": "display_data"
    }
   ],
   "source": [
    "sns.countplot(df, x = 'Sex')"
   ]
  },
  {
   "cell_type": "markdown",
   "id": "8a83431b",
   "metadata": {},
   "source": [
    "Observation\n",
    "* There are more females on board than males"
   ]
  },
  {
   "cell_type": "markdown",
   "id": "5b09df7d",
   "metadata": {},
   "source": [
    "### Exploring Relationships Between Features"
   ]
  },
  {
   "cell_type": "code",
   "execution_count": 20,
   "id": "0cd32951",
   "metadata": {},
   "outputs": [
    {
     "data": {
      "text/html": [
       "<div>\n",
       "<style scoped>\n",
       "    .dataframe tbody tr th:only-of-type {\n",
       "        vertical-align: middle;\n",
       "    }\n",
       "\n",
       "    .dataframe tbody tr th {\n",
       "        vertical-align: top;\n",
       "    }\n",
       "\n",
       "    .dataframe thead th {\n",
       "        text-align: right;\n",
       "    }\n",
       "</style>\n",
       "<table border=\"1\" class=\"dataframe\">\n",
       "  <thead>\n",
       "    <tr style=\"text-align: right;\">\n",
       "      <th></th>\n",
       "      <th>PassengerId</th>\n",
       "      <th>Survived</th>\n",
       "      <th>Pclass</th>\n",
       "      <th>Name</th>\n",
       "      <th>Sex</th>\n",
       "      <th>Age</th>\n",
       "      <th>SibSp</th>\n",
       "      <th>Parch</th>\n",
       "      <th>Ticket</th>\n",
       "      <th>Fare</th>\n",
       "      <th>Cabin</th>\n",
       "      <th>Embarked</th>\n",
       "    </tr>\n",
       "  </thead>\n",
       "  <tbody>\n",
       "    <tr>\n",
       "      <th>444</th>\n",
       "      <td>445</td>\n",
       "      <td>1</td>\n",
       "      <td>3</td>\n",
       "      <td>Johannesen-Bratthammer, Mr. Bernt</td>\n",
       "      <td>0</td>\n",
       "      <td>NaN</td>\n",
       "      <td>0</td>\n",
       "      <td>0</td>\n",
       "      <td>65306</td>\n",
       "      <td>8.1125</td>\n",
       "      <td>NaN</td>\n",
       "      <td>S</td>\n",
       "    </tr>\n",
       "  </tbody>\n",
       "</table>\n",
       "</div>"
      ],
      "text/plain": [
       "     PassengerId  Survived  Pclass                               Name  Sex  \\\n",
       "444          445         1       3  Johannesen-Bratthammer, Mr. Bernt    0   \n",
       "\n",
       "     Age  SibSp  Parch Ticket    Fare Cabin Embarked  \n",
       "444  NaN      0      0  65306  8.1125   NaN        S  "
      ]
     },
     "execution_count": 20,
     "metadata": {},
     "output_type": "execute_result"
    }
   ],
   "source": [
    "df.sample()"
   ]
  },
  {
   "cell_type": "code",
   "execution_count": 21,
   "id": "9cbe7434",
   "metadata": {},
   "outputs": [],
   "source": [
    "survived = (df['Survived'] > 0).sum()"
   ]
  },
  {
   "cell_type": "code",
   "execution_count": 22,
   "id": "be3d8ab7",
   "metadata": {},
   "outputs": [],
   "source": [
    "did_not_survive = (df['Survived']<1).sum()"
   ]
  },
  {
   "cell_type": "code",
   "execution_count": 23,
   "id": "4c35a83d",
   "metadata": {},
   "outputs": [],
   "source": [
    "total_number_atrisk = len(df['PassengerId'])"
   ]
  },
  {
   "cell_type": "code",
   "execution_count": 24,
   "id": "650d35c0",
   "metadata": {},
   "outputs": [],
   "source": [
    "survival_rate = (survived/total_number_atrisk)*100"
   ]
  },
  {
   "cell_type": "code",
   "execution_count": 25,
   "id": "bb0d0393",
   "metadata": {},
   "outputs": [
    {
     "name": "stdout",
     "output_type": "stream",
     "text": [
      "The survival rate for the poeple on board was 38.38%\n"
     ]
    }
   ],
   "source": [
    "print(f'The survival rate for the poeple on board was {np.round(survival_rate,2)}%')"
   ]
  },
  {
   "cell_type": "markdown",
   "id": "a0361096",
   "metadata": {},
   "source": [
    "### The survival rate based on different features like Pclass"
   ]
  },
  {
   "cell_type": "code",
   "execution_count": 84,
   "id": "1266dda1",
   "metadata": {},
   "outputs": [
    {
     "data": {
      "image/png": "[encoded data removed]",
      "text/plain": [
       "<Figure size 640x480 with 1 Axes>"
      ]
     },
     "metadata": {},
     "output_type": "display_data"
    }
   ],
   "source": [
    "sns.barplot(x='Pclass', y='Survived', data=df, palette= 'magma')\n",
    "title_font = {\n",
    "    'family':'serif',\n",
    "    'size':16,\n",
    "    'color': 'black',\n",
    "    'weight':'bold'\n",
    "}\n",
    "plt.title('Survival Rate Based On The Ticket Class', fontdict= title_font)\n",
    "plt.xlabel('Ticket Class')\n",
    "plt.ylabel('Survival Rate', weight = 'normal')\n",
    "\n",
    "plt.show()"
   ]
  },
  {
   "cell_type": "markdown",
   "id": "ee193e02",
   "metadata": {},
   "source": [
    "Observations\n",
    "* Passengers on first class had a higher survival than other ticket classes\n",
    "* 3rd class ticket passengers had the lowest survival rate"
   ]
  },
  {
   "cell_type": "markdown",
   "id": "a07ba0d5",
   "metadata": {},
   "source": [
    "### The survival rate based on Sex"
   ]
  },
  {
   "cell_type": "code",
   "execution_count": 27,
   "id": "f05af73c",
   "metadata": {},
   "outputs": [
    {
     "data": {
      "image/png": "[encoded data removed]",
      "text/plain": [
       "<Figure size 640x480 with 1 Axes>"
      ]
     },
     "metadata": {},
     "output_type": "display_data"
    }
   ],
   "source": [
    "sns.barplot(df,x = 'Sex', y = 'Survived')\n",
    "title_font = {\n",
    "    'family':'serif',\n",
    "    'size':16,\n",
    "    'color': 'black',\n",
    "    'weight':'bold'\n",
    "}\n",
    "plt.title('Survival rate based on Sex', fontdict= title_font)\n",
    "plt.xlabel('Sex')\n",
    "plt.ylabel('Survival Rate', weight = 'normal')\n",
    "\n",
    "plt.show()"
   ]
  },
  {
   "cell_type": "markdown",
   "id": "25f59a6d",
   "metadata": {},
   "source": [
    "Observation\n",
    "* Females had a higher survival rate than men"
   ]
  },
  {
   "cell_type": "markdown",
   "id": "75fbe669",
   "metadata": {},
   "source": [
    "### Survival rate based on SibSp"
   ]
  },
  {
   "cell_type": "code",
   "execution_count": 28,
   "id": "a4e3bb2a",
   "metadata": {},
   "outputs": [
    {
     "data": {
      "image/png": "[encoded data removed]",
      "text/plain": [
       "<Figure size 640x480 with 1 Axes>"
      ]
     },
     "metadata": {},
     "output_type": "display_data"
    }
   ],
   "source": [
    "sns.barplot(df, x = 'SibSp', y = 'Survived')\n",
    "title_font = {\n",
    "    'family':'serif',\n",
    "    'size':16,\n",
    "    'color': 'black',\n",
    "    'weight':'bold'\n",
    "}\n",
    "plt.title('Survival rate based on SibSp', fontdict= title_font)\n",
    "plt.xlabel('SibSp')\n",
    "plt.ylabel('Survival Rate', weight = 'normal')\n",
    "\n",
    "plt.show()"
   ]
  },
  {
   "cell_type": "markdown",
   "id": "2bd1a8e4",
   "metadata": {},
   "source": [
    "Observations\n",
    "* Passengers with one sibling or spouse had the highest survival rate\n",
    "* Passengers with above 4 siblings had the lowest survival rate"
   ]
  },
  {
   "cell_type": "markdown",
   "id": "45253f2e",
   "metadata": {},
   "source": [
    "### Survival rate based on Parch"
   ]
  },
  {
   "cell_type": "code",
   "execution_count": 29,
   "id": "b2c192a7",
   "metadata": {},
   "outputs": [
    {
     "data": {
      "text/plain": [
       "<Axes: xlabel='Parch', ylabel='Survived'>"
      ]
     },
     "execution_count": 29,
     "metadata": {},
     "output_type": "execute_result"
    },
    {
     "data": {
      "image/png": "[encoded data removed]",
      "text/plain": [
       "<Figure size 640x480 with 1 Axes>"
      ]
     },
     "metadata": {},
     "output_type": "display_data"
    }
   ],
   "source": [
    "sns.barplot(df,x = 'Parch', y = 'Survived')"
   ]
  },
  {
   "cell_type": "markdown",
   "id": "d2f3c685",
   "metadata": {},
   "source": [
    "### Exploring Numerical Features"
   ]
  },
  {
   "cell_type": "markdown",
   "id": "1da3ab84",
   "metadata": {},
   "source": [
    "#### Using histograms to understand the distribution of Age"
   ]
  },
  {
   "cell_type": "code",
   "execution_count": 30,
   "id": "7fedd9c9",
   "metadata": {},
   "outputs": [
    {
     "data": {
      "image/png": "[encoded data removed]",
      "text/plain": [
       "<Figure size 640x480 with 1 Axes>"
      ]
     },
     "metadata": {},
     "output_type": "display_data"
    }
   ],
   "source": [
    "sns.histplot(df, x = 'Age', kde= True, bins=25)\n",
    "title_font = {\n",
    "    'family':'serif',\n",
    "    'size':16,\n",
    "    'color': 'black',\n",
    "    'weight':'bold'\n",
    "}\n",
    "plt.title('Age Distribution', fontdict= title_font)\n",
    "\n",
    "\n",
    "plt.show()"
   ]
  },
  {
   "cell_type": "markdown",
   "id": "4014d16f",
   "metadata": {},
   "source": [
    "Observation\n",
    "* The highest distribution of ages is between 20-30 years "
   ]
  },
  {
   "cell_type": "markdown",
   "id": "8212f764",
   "metadata": {},
   "source": [
    "#### Using box plots to understand the spread of numerical variables and identify outliers."
   ]
  },
  {
   "cell_type": "code",
   "execution_count": 31,
   "id": "c58d6c3a",
   "metadata": {},
   "outputs": [
    {
     "data": {
      "image/png": "[encoded data removed]",
      "text/plain": [
       "<Figure size 640x480 with 1 Axes>"
      ]
     },
     "metadata": {},
     "output_type": "display_data"
    }
   ],
   "source": [
    "sns.boxplot(df,x = 'Sex', y = 'Age' )\n",
    "plt.show()"
   ]
  },
  {
   "cell_type": "markdown",
   "id": "f59db316",
   "metadata": {},
   "source": [
    "Observation:\n",
    "* The boxplot indicates that the average age for both men and women is close to 30 years old \n",
    "* while there are outliers with very few passengers being around 70 to 80 years old"
   ]
  },
  {
   "cell_type": "markdown",
   "id": "57f72acd",
   "metadata": {},
   "source": [
    "## Analysis Questions\n",
    "1. What percentage of passengers survived the Titanic?\n",
    "2. What was the survival rate for each Pclass?\n",
    "3. Were gender and survival correlated? Provide statistics.\n",
    "4. What was the average age of survivors and non-survivors?\n",
    "5. Did having siblings or spouses on board affect the survival rate?\n",
    "6. What was the survival rate based on the port of embarkation?\n",
    "7. How did fare correlate with survival? Did higher fare-paying passengers have better survival?\n",
    "8. Were age and Pclass correlated? Provide a visualization.\n",
    "9. What other insights can you draw from the dataset? Provide at least two additional observations supported by data and visualizations."
   ]
  },
  {
   "cell_type": "markdown",
   "id": "723b8e4b",
   "metadata": {},
   "source": [
    "### What percentage of passengers survived the Titanic?"
   ]
  },
  {
   "cell_type": "code",
   "execution_count": 32,
   "id": "ad93fc0f",
   "metadata": {},
   "outputs": [],
   "source": [
    "percentage_of_survivors = df['Survived'].value_counts().reset_index().rename(columns= {'index':'Survived','Survived':'Count'})"
   ]
  },
  {
   "cell_type": "code",
   "execution_count": 33,
   "id": "89a1da0f",
   "metadata": {},
   "outputs": [
    {
     "data": {
      "text/html": [
       "<div>\n",
       "<style scoped>\n",
       "    .dataframe tbody tr th:only-of-type {\n",
       "        vertical-align: middle;\n",
       "    }\n",
       "\n",
       "    .dataframe tbody tr th {\n",
       "        vertical-align: top;\n",
       "    }\n",
       "\n",
       "    .dataframe thead th {\n",
       "        text-align: right;\n",
       "    }\n",
       "</style>\n",
       "<table border=\"1\" class=\"dataframe\">\n",
       "  <thead>\n",
       "    <tr style=\"text-align: right;\">\n",
       "      <th></th>\n",
       "      <th>Survived</th>\n",
       "      <th>Count</th>\n",
       "    </tr>\n",
       "  </thead>\n",
       "  <tbody>\n",
       "    <tr>\n",
       "      <th>0</th>\n",
       "      <td>0</td>\n",
       "      <td>549</td>\n",
       "    </tr>\n",
       "    <tr>\n",
       "      <th>1</th>\n",
       "      <td>1</td>\n",
       "      <td>342</td>\n",
       "    </tr>\n",
       "  </tbody>\n",
       "</table>\n",
       "</div>"
      ],
      "text/plain": [
       "   Survived  Count\n",
       "0         0    549\n",
       "1         1    342"
      ]
     },
     "execution_count": 33,
     "metadata": {},
     "output_type": "execute_result"
    }
   ],
   "source": [
    "percentage_of_survivors"
   ]
  },
  {
   "cell_type": "code",
   "execution_count": 34,
   "id": "541066bd",
   "metadata": {},
   "outputs": [
    {
     "data": {
      "image/png": "[encoded data removed]",
      "text/plain": [
       "<Figure size 640x480 with 1 Axes>"
      ]
     },
     "metadata": {},
     "output_type": "display_data"
    }
   ],
   "source": [
    "plt.pie(percentage_of_survivors['Count'],labels=percentage_of_survivors['Survived'], autopct= '%1.2f%%', shadow= True, explode = (0,0.1))\n",
    "plt.show()"
   ]
  },
  {
   "cell_type": "markdown",
   "id": "968a9637",
   "metadata": {},
   "source": [
    "###### 38.38% of passengers survived the Titanic"
   ]
  },
  {
   "cell_type": "markdown",
   "id": "ef28b77a",
   "metadata": {},
   "source": [
    "### What was the survival rate for each Pclass?"
   ]
  },
  {
   "cell_type": "code",
   "execution_count": 35,
   "id": "0e9738ae",
   "metadata": {},
   "outputs": [],
   "source": [
    "survival_rate_by_pclass = df.groupby('Pclass')['Survived'].mean()"
   ]
  },
  {
   "cell_type": "code",
   "execution_count": 36,
   "id": "1af7f4ee",
   "metadata": {},
   "outputs": [],
   "source": [
    "survival_rate_by_pclass = survival_rate_by_pclass.reset_index().rename(columns = {'Survived':'Survive Percentage'})"
   ]
  },
  {
   "cell_type": "code",
   "execution_count": 37,
   "id": "0b26abf3",
   "metadata": {},
   "outputs": [
    {
     "data": {
      "text/html": [
       "<div>\n",
       "<style scoped>\n",
       "    .dataframe tbody tr th:only-of-type {\n",
       "        vertical-align: middle;\n",
       "    }\n",
       "\n",
       "    .dataframe tbody tr th {\n",
       "        vertical-align: top;\n",
       "    }\n",
       "\n",
       "    .dataframe thead th {\n",
       "        text-align: right;\n",
       "    }\n",
       "</style>\n",
       "<table border=\"1\" class=\"dataframe\">\n",
       "  <thead>\n",
       "    <tr style=\"text-align: right;\">\n",
       "      <th></th>\n",
       "      <th>Pclass</th>\n",
       "      <th>Survive Percentage</th>\n",
       "    </tr>\n",
       "  </thead>\n",
       "  <tbody>\n",
       "    <tr>\n",
       "      <th>0</th>\n",
       "      <td>1</td>\n",
       "      <td>0.629630</td>\n",
       "    </tr>\n",
       "    <tr>\n",
       "      <th>1</th>\n",
       "      <td>2</td>\n",
       "      <td>0.472826</td>\n",
       "    </tr>\n",
       "    <tr>\n",
       "      <th>2</th>\n",
       "      <td>3</td>\n",
       "      <td>0.242363</td>\n",
       "    </tr>\n",
       "  </tbody>\n",
       "</table>\n",
       "</div>"
      ],
      "text/plain": [
       "   Pclass  Survive Percentage\n",
       "0       1            0.629630\n",
       "1       2            0.472826\n",
       "2       3            0.242363"
      ]
     },
     "execution_count": 37,
     "metadata": {},
     "output_type": "execute_result"
    }
   ],
   "source": [
    "survival_rate_by_pclass"
   ]
  },
  {
   "cell_type": "code",
   "execution_count": 38,
   "id": "e3bd0547",
   "metadata": {},
   "outputs": [
    {
     "data": {
      "image/png": "[encoded data removed]",
      "text/plain": [
       "<Figure size 640x480 with 1 Axes>"
      ]
     },
     "metadata": {},
     "output_type": "display_data"
    }
   ],
   "source": [
    "plt.pie(x = survival_rate_by_pclass['Survive Percentage'], labels= survival_rate_by_pclass['Pclass'], autopct='%1.2f%%')\n",
    "plt.show()"
   ]
  },
  {
   "cell_type": "markdown",
   "id": "0352b541",
   "metadata": {},
   "source": [
    "###### 1st class tickets holders had a higher survival rate"
   ]
  },
  {
   "cell_type": "markdown",
   "id": "95f44564",
   "metadata": {},
   "source": [
    "### Were gender and survival correlated? Provide statistics"
   ]
  },
  {
   "cell_type": "code",
   "execution_count": 39,
   "id": "75799e7b",
   "metadata": {},
   "outputs": [
    {
     "data": {
      "text/html": [
       "<div>\n",
       "<style scoped>\n",
       "    .dataframe tbody tr th:only-of-type {\n",
       "        vertical-align: middle;\n",
       "    }\n",
       "\n",
       "    .dataframe tbody tr th {\n",
       "        vertical-align: top;\n",
       "    }\n",
       "\n",
       "    .dataframe thead th {\n",
       "        text-align: right;\n",
       "    }\n",
       "</style>\n",
       "<table border=\"1\" class=\"dataframe\">\n",
       "  <thead>\n",
       "    <tr style=\"text-align: right;\">\n",
       "      <th></th>\n",
       "      <th>Sex</th>\n",
       "      <th>Survived</th>\n",
       "    </tr>\n",
       "  </thead>\n",
       "  <tbody>\n",
       "    <tr>\n",
       "      <th>Sex</th>\n",
       "      <td>1.000000</td>\n",
       "      <td>0.543351</td>\n",
       "    </tr>\n",
       "    <tr>\n",
       "      <th>Survived</th>\n",
       "      <td>0.543351</td>\n",
       "      <td>1.000000</td>\n",
       "    </tr>\n",
       "  </tbody>\n",
       "</table>\n",
       "</div>"
      ],
      "text/plain": [
       "               Sex  Survived\n",
       "Sex       1.000000  0.543351\n",
       "Survived  0.543351  1.000000"
      ]
     },
     "execution_count": 39,
     "metadata": {},
     "output_type": "execute_result"
    }
   ],
   "source": [
    "df[['Sex','Survived']].corr()"
   ]
  },
  {
   "cell_type": "code",
   "execution_count": 40,
   "id": "5ac2d555",
   "metadata": {},
   "outputs": [
    {
     "data": {
      "text/plain": [
       "<Axes: xlabel='Sex', ylabel='Survived'>"
      ]
     },
     "execution_count": 40,
     "metadata": {},
     "output_type": "execute_result"
    },
    {
     "data": {
      "image/png": "[encoded data removed]",
      "text/plain": [
       "<Figure size 640x480 with 1 Axes>"
      ]
     },
     "metadata": {},
     "output_type": "display_data"
    }
   ],
   "source": [
    "sns.regplot(df, x = 'Sex', y= 'Survived')"
   ]
  },
  {
   "cell_type": "markdown",
   "id": "1e8d132d",
   "metadata": {},
   "source": [
    "###### This indicates a moderate positive correlation between the gender of the passenger and their survival which indicates that being a certain gender did increase your chances of survival"
   ]
  },
  {
   "cell_type": "markdown",
   "id": "0d8d427d",
   "metadata": {},
   "source": [
    "### What was the average age of survivors and non-survivors?"
   ]
  },
  {
   "cell_type": "code",
   "execution_count": 41,
   "id": "63c5a899",
   "metadata": {},
   "outputs": [],
   "source": [
    "survivors = df[df['Survived'] == 1 ]"
   ]
  },
  {
   "cell_type": "code",
   "execution_count": 42,
   "id": "497c4faa",
   "metadata": {},
   "outputs": [],
   "source": [
    "non_survivors = df[df['Survived'] == 0 ]"
   ]
  },
  {
   "cell_type": "code",
   "execution_count": 43,
   "id": "111fb995",
   "metadata": {},
   "outputs": [],
   "source": [
    "survivors_mean_age = survivors.Age.mean()"
   ]
  },
  {
   "cell_type": "code",
   "execution_count": 68,
   "id": "70048c68",
   "metadata": {},
   "outputs": [
    {
     "name": "stdout",
     "output_type": "stream",
     "text": [
      "The average age of survivors was 28.0 years old\n"
     ]
    }
   ],
   "source": [
    "print(f'The average age of survivors was {np.round(survivors_mean_age)} years old')"
   ]
  },
  {
   "cell_type": "code",
   "execution_count": 45,
   "id": "35550745",
   "metadata": {},
   "outputs": [],
   "source": [
    "non_survivors_mean_age = non_survivors.Age.mean()"
   ]
  },
  {
   "cell_type": "code",
   "execution_count": 69,
   "id": "3485fbf4",
   "metadata": {},
   "outputs": [
    {
     "name": "stdout",
     "output_type": "stream",
     "text": [
      "The average age of non survivors was 31.0 years old\n"
     ]
    }
   ],
   "source": [
    "print(f'The average age of non survivors was {np.round(non_survivors_mean_age)} years old')"
   ]
  },
  {
   "cell_type": "markdown",
   "id": "d4d33c2c",
   "metadata": {},
   "source": [
    "###### The average age for survivors was 28 and the average age for non survivors was 31"
   ]
  },
  {
   "cell_type": "markdown",
   "id": "47e3f61e",
   "metadata": {},
   "source": [
    "### Did having siblings or spouses on board affect the survival rate?"
   ]
  },
  {
   "cell_type": "code",
   "execution_count": 47,
   "id": "c40911da",
   "metadata": {},
   "outputs": [
    {
     "data": {
      "image/png": "[encoded data removed]",
      "text/plain": [
       "<Figure size 640x480 with 1 Axes>"
      ]
     },
     "metadata": {},
     "output_type": "display_data"
    }
   ],
   "source": [
    "sns.barplot(df, x = 'SibSp', y = 'Survived')\n",
    "title_font = {\n",
    "    'family':'serif',\n",
    "    'size':16,\n",
    "    'color': 'black',\n",
    "    'weight':'bold'\n",
    "}\n",
    "plt.title('Survival rate based on SibSp', fontdict= title_font)\n",
    "plt.xlabel('SibSp')\n",
    "plt.ylabel('Survival Rate', weight = 'normal')\n",
    "\n",
    "plt.show()"
   ]
  },
  {
   "cell_type": "markdown",
   "id": "078a4402",
   "metadata": {},
   "source": [
    "##### It is clearly observed in the barplot that having more siblings/spouses reduces your survival rate"
   ]
  },
  {
   "cell_type": "markdown",
   "id": "9c40f3bb",
   "metadata": {},
   "source": [
    "### What was the survival rate based on the port of embarkation?"
   ]
  },
  {
   "cell_type": "code",
   "execution_count": 48,
   "id": "f15ace79",
   "metadata": {},
   "outputs": [
    {
     "data": {
      "image/png": "[encoded data removed]",
      "text/plain": [
       "<Figure size 640x480 with 1 Axes>"
      ]
     },
     "metadata": {},
     "output_type": "display_data"
    }
   ],
   "source": [
    "sns.barplot(df, x='Embarked', y= 'Survived')\n",
    "title_font = {\n",
    "    'family':'serif',\n",
    "    'size':16,\n",
    "    'color': 'black',\n",
    "    'weight':'bold'\n",
    "}\n",
    "plt.title('Survival rate based port of embarkation', fontdict= title_font)\n",
    "plt.xlabel('Embarked')\n",
    "plt.ylabel('Survival Rate', weight = 'normal')\n",
    "plt.show()"
   ]
  },
  {
   "cell_type": "markdown",
   "id": "3648d258",
   "metadata": {},
   "source": [
    "###### Passengers whose port of Embarkation was Cherbourg had a higher survival rate than other ports although the reason is unclear"
   ]
  },
  {
   "cell_type": "markdown",
   "id": "7c181c10",
   "metadata": {},
   "source": [
    "### How did fare correlate with survival? Did higher fare-paying passengers have better survival?"
   ]
  },
  {
   "cell_type": "code",
   "execution_count": 49,
   "id": "7bd154a2",
   "metadata": {},
   "outputs": [
    {
     "data": {
      "text/html": [
       "<div>\n",
       "<style scoped>\n",
       "    .dataframe tbody tr th:only-of-type {\n",
       "        vertical-align: middle;\n",
       "    }\n",
       "\n",
       "    .dataframe tbody tr th {\n",
       "        vertical-align: top;\n",
       "    }\n",
       "\n",
       "    .dataframe thead th {\n",
       "        text-align: right;\n",
       "    }\n",
       "</style>\n",
       "<table border=\"1\" class=\"dataframe\">\n",
       "  <thead>\n",
       "    <tr style=\"text-align: right;\">\n",
       "      <th></th>\n",
       "      <th>Fare</th>\n",
       "      <th>Survived</th>\n",
       "    </tr>\n",
       "  </thead>\n",
       "  <tbody>\n",
       "    <tr>\n",
       "      <th>Fare</th>\n",
       "      <td>1.000000</td>\n",
       "      <td>0.257307</td>\n",
       "    </tr>\n",
       "    <tr>\n",
       "      <th>Survived</th>\n",
       "      <td>0.257307</td>\n",
       "      <td>1.000000</td>\n",
       "    </tr>\n",
       "  </tbody>\n",
       "</table>\n",
       "</div>"
      ],
      "text/plain": [
       "              Fare  Survived\n",
       "Fare      1.000000  0.257307\n",
       "Survived  0.257307  1.000000"
      ]
     },
     "execution_count": 49,
     "metadata": {},
     "output_type": "execute_result"
    }
   ],
   "source": [
    "df[['Fare','Survived']].corr()"
   ]
  },
  {
   "cell_type": "code",
   "execution_count": 81,
   "id": "cbb3f8a2",
   "metadata": {},
   "outputs": [
    {
     "data": {
      "image/png": "[encoded data removed]",
      "text/plain": [
       "<Figure size 640x480 with 2 Axes>"
      ]
     },
     "metadata": {},
     "output_type": "display_data"
    }
   ],
   "source": [
    "sns.heatmap(df[['Fare','Survived']], vmin=0, vmax=1, cmap='viridis')\n",
    "title_font = {\n",
    "    'family':'serif',\n",
    "    'size':16,\n",
    "    'color': 'black',\n",
    "    'weight':'bold'\n",
    "}\n",
    "plt.title('Survival Density Heat Map Based On Fares', fontdict= title_font)\n",
    "plt.show()\n"
   ]
  },
  {
   "cell_type": "markdown",
   "id": "e0de21ef",
   "metadata": {},
   "source": [
    "###### It is observed that paying a higher fare has weak positive correlation to your survival on the titanic"
   ]
  },
  {
   "cell_type": "markdown",
   "id": "7e99b169",
   "metadata": {},
   "source": [
    "### Were age and Pclass correlated? Provide a visualization."
   ]
  },
  {
   "cell_type": "code",
   "execution_count": 50,
   "id": "39ec6746",
   "metadata": {},
   "outputs": [
    {
     "data": {
      "image/png": "[encoded data removed]",
      "text/plain": [
       "<Figure size 640x480 with 1 Axes>"
      ]
     },
     "metadata": {},
     "output_type": "display_data"
    }
   ],
   "source": [
    "sns.scatterplot(df,x = 'Pclass', y = 'Age')\n",
    "plt.show()"
   ]
  },
  {
   "cell_type": "code",
   "execution_count": 51,
   "id": "5f51d1df",
   "metadata": {},
   "outputs": [
    {
     "data": {
      "text/html": [
       "<div>\n",
       "<style scoped>\n",
       "    .dataframe tbody tr th:only-of-type {\n",
       "        vertical-align: middle;\n",
       "    }\n",
       "\n",
       "    .dataframe tbody tr th {\n",
       "        vertical-align: top;\n",
       "    }\n",
       "\n",
       "    .dataframe thead th {\n",
       "        text-align: right;\n",
       "    }\n",
       "</style>\n",
       "<table border=\"1\" class=\"dataframe\">\n",
       "  <thead>\n",
       "    <tr style=\"text-align: right;\">\n",
       "      <th></th>\n",
       "      <th>Age</th>\n",
       "      <th>Pclass</th>\n",
       "    </tr>\n",
       "  </thead>\n",
       "  <tbody>\n",
       "    <tr>\n",
       "      <th>Age</th>\n",
       "      <td>1.000000</td>\n",
       "      <td>-0.369226</td>\n",
       "    </tr>\n",
       "    <tr>\n",
       "      <th>Pclass</th>\n",
       "      <td>-0.369226</td>\n",
       "      <td>1.000000</td>\n",
       "    </tr>\n",
       "  </tbody>\n",
       "</table>\n",
       "</div>"
      ],
      "text/plain": [
       "             Age    Pclass\n",
       "Age     1.000000 -0.369226\n",
       "Pclass -0.369226  1.000000"
      ]
     },
     "execution_count": 51,
     "metadata": {},
     "output_type": "execute_result"
    }
   ],
   "source": [
    "df[['Age', 'Pclass']].corr()"
   ]
  },
  {
   "cell_type": "markdown",
   "id": "852098b2",
   "metadata": {},
   "source": [
    "###### There is a negative correlation between the Pclass and the Age of the Passengers"
   ]
  },
  {
   "cell_type": "markdown",
   "id": "41ecc4ef",
   "metadata": {},
   "source": [
    "# Linear Regression ML MODEL"
   ]
  },
  {
   "cell_type": "code",
   "execution_count": 52,
   "id": "a1cba368",
   "metadata": {},
   "outputs": [],
   "source": [
    "from sklearn.model_selection import train_test_split\n",
    "from sklearn import linear_model"
   ]
  },
  {
   "cell_type": "code",
   "execution_count": 53,
   "id": "1fcc429d",
   "metadata": {},
   "outputs": [],
   "source": [
    "y = df['Survived'].values.reshape((891,1))"
   ]
  },
  {
   "cell_type": "code",
   "execution_count": 54,
   "id": "c050dec8",
   "metadata": {},
   "outputs": [
    {
     "data": {
      "text/plain": [
       "(891, 1)"
      ]
     },
     "execution_count": 54,
     "metadata": {},
     "output_type": "execute_result"
    }
   ],
   "source": [
    "y.shape"
   ]
  },
  {
   "cell_type": "code",
   "execution_count": 55,
   "id": "29260279",
   "metadata": {},
   "outputs": [],
   "source": [
    "X = df[['Pclass','Sex', 'SibSp','Fare','Parch', 'Fare']]"
   ]
  },
  {
   "cell_type": "code",
   "execution_count": 56,
   "id": "a4cd2898",
   "metadata": {},
   "outputs": [
    {
     "data": {
      "text/plain": [
       "(891, 6)"
      ]
     },
     "execution_count": 56,
     "metadata": {},
     "output_type": "execute_result"
    }
   ],
   "source": [
    "X.shape"
   ]
  },
  {
   "cell_type": "code",
   "execution_count": 57,
   "id": "99824536",
   "metadata": {},
   "outputs": [],
   "source": [
    "X_train, X_test, y_train, y_test = train_test_split(X, y, test_size=0.3)"
   ]
  },
  {
   "cell_type": "code",
   "execution_count": 58,
   "id": "949a448b",
   "metadata": {},
   "outputs": [],
   "source": [
    "from sklearn.linear_model import LinearRegression"
   ]
  },
  {
   "cell_type": "code",
   "execution_count": 59,
   "id": "14bb52e4",
   "metadata": {},
   "outputs": [],
   "source": [
    "model = LinearRegression()"
   ]
  },
  {
   "cell_type": "code",
   "execution_count": 60,
   "id": "4b1260ee",
   "metadata": {},
   "outputs": [
    {
     "data": {
      "text/html": [
       "<style>#sk-container-id-1 {color: black;background-color: white;}#sk-container-id-1 pre{padding: 0;}#sk-container-id-1 div.sk-toggleable {background-color: white;}#sk-container-id-1 label.sk-toggleable__label {cursor: pointer;display: block;width: 100%;margin-bottom: 0;padding: 0.3em;box-sizing: border-box;text-align: center;}#sk-container-id-1 label.sk-toggleable__label-arrow:before {content: \"▸\";float: left;margin-right: 0.25em;color: #696969;}#sk-container-id-1 label.sk-toggleable__label-arrow:hover:before {color: black;}#sk-container-id-1 div.sk-estimator:hover label.sk-toggleable__label-arrow:before {color: black;}#sk-container-id-1 div.sk-toggleable__content {max-height: 0;max-width: 0;overflow: hidden;text-align: left;background-color: #f0f8ff;}#sk-container-id-1 div.sk-toggleable__content pre {margin: 0.2em;color: black;border-radius: 0.25em;background-color: #f0f8ff;}#sk-container-id-1 input.sk-toggleable__control:checked~div.sk-toggleable__content {max-height: 200px;max-width: 100%;overflow: auto;}#sk-container-id-1 input.sk-toggleable__control:checked~label.sk-toggleable__label-arrow:before {content: \"▾\";}#sk-container-id-1 div.sk-estimator input.sk-toggleable__control:checked~label.sk-toggleable__label {background-color: #d4ebff;}#sk-container-id-1 div.sk-label input.sk-toggleable__control:checked~label.sk-toggleable__label {background-color: #d4ebff;}#sk-container-id-1 input.sk-hidden--visually {border: 0;clip: rect(1px 1px 1px 1px);clip: rect(1px, 1px, 1px, 1px);height: 1px;margin: -1px;overflow: hidden;padding: 0;position: absolute;width: 1px;}#sk-container-id-1 div.sk-estimator {font-family: monospace;background-color: #f0f8ff;border: 1px dotted black;border-radius: 0.25em;box-sizing: border-box;margin-bottom: 0.5em;}#sk-container-id-1 div.sk-estimator:hover {background-color: #d4ebff;}#sk-container-id-1 div.sk-parallel-item::after {content: \"\";width: 100%;border-bottom: 1px solid gray;flex-grow: 1;}#sk-container-id-1 div.sk-label:hover label.sk-toggleable__label {background-color: #d4ebff;}#sk-container-id-1 div.sk-serial::before {content: \"\";position: absolute;border-left: 1px solid gray;box-sizing: border-box;top: 0;bottom: 0;left: 50%;z-index: 0;}#sk-container-id-1 div.sk-serial {display: flex;flex-direction: column;align-items: center;background-color: white;padding-right: 0.2em;padding-left: 0.2em;position: relative;}#sk-container-id-1 div.sk-item {position: relative;z-index: 1;}#sk-container-id-1 div.sk-parallel {display: flex;align-items: stretch;justify-content: center;background-color: white;position: relative;}#sk-container-id-1 div.sk-item::before, #sk-container-id-1 div.sk-parallel-item::before {content: \"\";position: absolute;border-left: 1px solid gray;box-sizing: border-box;top: 0;bottom: 0;left: 50%;z-index: -1;}#sk-container-id-1 div.sk-parallel-item {display: flex;flex-direction: column;z-index: 1;position: relative;background-color: white;}#sk-container-id-1 div.sk-parallel-item:first-child::after {align-self: flex-end;width: 50%;}#sk-container-id-1 div.sk-parallel-item:last-child::after {align-self: flex-start;width: 50%;}#sk-container-id-1 div.sk-parallel-item:only-child::after {width: 0;}#sk-container-id-1 div.sk-dashed-wrapped {border: 1px dashed gray;margin: 0 0.4em 0.5em 0.4em;box-sizing: border-box;padding-bottom: 0.4em;background-color: white;}#sk-container-id-1 div.sk-label label {font-family: monospace;font-weight: bold;display: inline-block;line-height: 1.2em;}#sk-container-id-1 div.sk-label-container {text-align: center;}#sk-container-id-1 div.sk-container {/* jupyter's `normalize.less` sets `[hidden] { display: none; }` but bootstrap.min.css set `[hidden] { display: none !important; }` so we also need the `!important` here to be able to override the default hidden behavior on the sphinx rendered scikit-learn.org. See: https://github.com/scikit-learn/scikit-learn/issues/21755 */display: inline-block !important;position: relative;}#sk-container-id-1 div.sk-text-repr-fallback {display: none;}</style><div id=\"sk-container-id-1\" class=\"sk-top-container\"><div class=\"sk-text-repr-fallback\"><pre>LinearRegression()</pre><b>In a Jupyter environment, please rerun this cell to show the HTML representation or trust the notebook. <br />On GitHub, the HTML representation is unable to render, please try loading this page with nbviewer.org.</b></div><div class=\"sk-container\" hidden><div class=\"sk-item\"><div class=\"sk-estimator sk-toggleable\"><input class=\"sk-toggleable__control sk-hidden--visually\" id=\"sk-estimator-id-1\" type=\"checkbox\" checked><label for=\"sk-estimator-id-1\" class=\"sk-toggleable__label sk-toggleable__label-arrow\">LinearRegression</label><div class=\"sk-toggleable__content\"><pre>LinearRegression()</pre></div></div></div></div></div>"
      ],
      "text/plain": [
       "LinearRegression()"
      ]
     },
     "execution_count": 60,
     "metadata": {},
     "output_type": "execute_result"
    }
   ],
   "source": [
    "model.fit(X_train, y_train)"
   ]
  },
  {
   "cell_type": "code",
   "execution_count": 61,
   "id": "6bb23bfd",
   "metadata": {},
   "outputs": [],
   "source": [
    "predictions = model.predict(X_test)"
   ]
  },
  {
   "cell_type": "code",
   "execution_count": 62,
   "id": "8f3f45a4",
   "metadata": {},
   "outputs": [
    {
     "data": {
      "text/plain": [
       "array([[ 0.22026188],\n",
       "       [ 0.9301575 ],\n",
       "       [ 0.21631386],\n",
       "       [ 0.09077307],\n",
       "       [ 0.1089049 ],\n",
       "       [ 0.73256926],\n",
       "       [ 0.4170437 ],\n",
       "       [ 0.09164531],\n",
       "       [ 0.09081134],\n",
       "       [ 0.09092916],\n",
       "       [ 0.58573205],\n",
       "       [ 0.60726719],\n",
       "       [ 0.40220695],\n",
       "       [ 0.92672721],\n",
       "       [ 0.09099647],\n",
       "       [ 0.27399282],\n",
       "       [ 0.09104851],\n",
       "       [ 0.09105615],\n",
       "       [ 0.6070652 ],\n",
       "       [ 0.74470869],\n",
       "       [ 0.09105615],\n",
       "       [ 0.76711095],\n",
       "       [-0.05937193],\n",
       "       [ 0.05080668],\n",
       "       [ 0.09189167],\n",
       "       [ 0.77096716],\n",
       "       [ 0.41814547],\n",
       "       [ 0.58164224],\n",
       "       [ 0.75827685],\n",
       "       [ 0.2517737 ],\n",
       "       [ 0.56977671],\n",
       "       [ 0.41559303],\n",
       "       [-0.03697425],\n",
       "       [ 0.7680291 ],\n",
       "       [ 0.1089049 ],\n",
       "       [ 0.09111278],\n",
       "       [-0.02566575],\n",
       "       [ 0.2517737 ],\n",
       "       [ 0.7347529 ],\n",
       "       [ 0.97590869],\n",
       "       [ 0.41559303],\n",
       "       [ 0.76711095],\n",
       "       [ 0.43402175],\n",
       "       [ 0.41549662],\n",
       "       [ 0.74470869],\n",
       "       [ 0.21365123],\n",
       "       [ 0.41602301],\n",
       "       [ 0.42314018],\n",
       "       [ 0.56826636],\n",
       "       [ 0.25085555],\n",
       "       [ 0.22661699],\n",
       "       [ 0.09106688],\n",
       "       [ 0.09100261],\n",
       "       [ 0.2517737 ],\n",
       "       [ 0.92258633],\n",
       "       [ 0.04050557],\n",
       "       [ 0.09105615],\n",
       "       [ 0.09105615],\n",
       "       [ 0.22845328],\n",
       "       [ 0.91846235],\n",
       "       [ 0.73403829],\n",
       "       [ 0.40584232],\n",
       "       [ 0.2517737 ],\n",
       "       [ 0.58162542],\n",
       "       [ 0.55441102],\n",
       "       [ 0.22882054],\n",
       "       [ 0.09081134],\n",
       "       [ 0.0907792 ],\n",
       "       [ 0.0908098 ],\n",
       "       [ 0.09106688],\n",
       "       [ 0.59685388],\n",
       "       [ 0.09111278],\n",
       "       [ 0.03487734],\n",
       "       [ 0.09133773],\n",
       "       [ 0.60766199],\n",
       "       [ 0.1089049 ],\n",
       "       [ 0.76711095],\n",
       "       [-0.02178658],\n",
       "       [ 0.09074553],\n",
       "       [ 0.21780328],\n",
       "       [ 0.42420523],\n",
       "       [ 0.09111278],\n",
       "       [ 0.40461046],\n",
       "       [ 0.09074707],\n",
       "       [ 0.09133773],\n",
       "       [ 0.93162044],\n",
       "       [ 0.91350437],\n",
       "       [ 0.09133773],\n",
       "       [ 0.40840443],\n",
       "       [ 0.60899331],\n",
       "       [-0.13533783],\n",
       "       [ 0.0908098 ],\n",
       "       [ 0.05201096],\n",
       "       [ 0.74861641],\n",
       "       [ 0.39684498],\n",
       "       [ 0.77537426],\n",
       "       [ 0.22661699],\n",
       "       [ 0.25654805],\n",
       "       [ 0.24699934],\n",
       "       [ 0.0934816 ],\n",
       "       [ 0.51734088],\n",
       "       [ 0.09081898],\n",
       "       [ 0.09100261],\n",
       "       [ 0.60725801],\n",
       "       [ 0.1089049 ],\n",
       "       [ 0.92018233],\n",
       "       [ 0.58822177],\n",
       "       [ 0.09096588],\n",
       "       [ 0.9301575 ],\n",
       "       [ 0.95118457],\n",
       "       [ 0.09105615],\n",
       "       [ 0.73367103],\n",
       "       [ 0.1089049 ],\n",
       "       [ 0.58186   ],\n",
       "       [ 0.4170437 ],\n",
       "       [ 0.25250821],\n",
       "       [ 0.09111278],\n",
       "       [ 0.09105615],\n",
       "       [ 0.57171554],\n",
       "       [ 0.41536349],\n",
       "       [ 0.93348273],\n",
       "       [ 0.91581809],\n",
       "       [ 0.60707438],\n",
       "       [ 0.09133773],\n",
       "       [ 0.93184843],\n",
       "       [ 0.09092916],\n",
       "       [ 0.09105615],\n",
       "       [ 0.39873685],\n",
       "       [ 0.2517737 ],\n",
       "       [ 0.09164531],\n",
       "       [ 0.41559303],\n",
       "       [ 0.95386556],\n",
       "       [ 0.47928115],\n",
       "       [ 0.58270728],\n",
       "       [ 0.96118318],\n",
       "       [ 0.4104718 ],\n",
       "       [ 0.09101179],\n",
       "       [ 0.93125163],\n",
       "       [ 0.09111278],\n",
       "       [ 0.91350437],\n",
       "       [ 0.41646526],\n",
       "       [ 0.41697175],\n",
       "       [ 0.96631866],\n",
       "       [ 0.09164531],\n",
       "       [ 0.42316464],\n",
       "       [ 0.09101179],\n",
       "       [ 0.92163914],\n",
       "       [ 0.96282053],\n",
       "       [ 0.41549662],\n",
       "       [ 0.23631058],\n",
       "       [ 0.09096588],\n",
       "       [ 0.2517737 ],\n",
       "       [ 0.06597445],\n",
       "       [ 0.08815636],\n",
       "       [ 0.09105615],\n",
       "       [ 0.41674989],\n",
       "       [ 0.20481713],\n",
       "       [ 0.09099956],\n",
       "       [ 0.09105615],\n",
       "       [ 0.72107253],\n",
       "       [ 0.98757373],\n",
       "       [ 0.2517737 ],\n",
       "       [ 0.41602301],\n",
       "       [ 0.09105615],\n",
       "       [ 0.09111278],\n",
       "       [ 0.25085555],\n",
       "       [ 0.45006326],\n",
       "       [ 0.09081134],\n",
       "       [ 0.93560413],\n",
       "       [ 0.09054199],\n",
       "       [ 0.51572799],\n",
       "       [ 0.09100261],\n",
       "       [ 0.09111278],\n",
       "       [ 0.09111278],\n",
       "       [-0.05937193],\n",
       "       [ 0.05352131],\n",
       "       [ 0.09133468],\n",
       "       [ 0.09111278],\n",
       "       [ 0.6072871 ],\n",
       "       [ 0.25085555],\n",
       "       [ 0.0908098 ],\n",
       "       [ 0.09105615],\n",
       "       [ 0.91493667],\n",
       "       [ 0.09099647],\n",
       "       [ 0.03514819],\n",
       "       [ 0.92538208],\n",
       "       [ 0.09044713],\n",
       "       [ 0.09100261],\n",
       "       [ 0.09105615],\n",
       "       [ 0.75956225],\n",
       "       [ 0.57161454],\n",
       "       [ 0.4170437 ],\n",
       "       [ 0.41539103],\n",
       "       [ 0.09105615],\n",
       "       [ 0.06597445],\n",
       "       [ 0.03714821],\n",
       "       [ 0.42438732],\n",
       "       [ 0.08815636],\n",
       "       [ 0.25085555],\n",
       "       [ 0.06290784],\n",
       "       [-0.02566575],\n",
       "       [ 0.41630918],\n",
       "       [ 0.09101179],\n",
       "       [ 0.95011648],\n",
       "       [ 0.2517737 ],\n",
       "       [ 0.47923983],\n",
       "       [ 0.58162542],\n",
       "       [ 0.58834417],\n",
       "       [ 0.05057714],\n",
       "       [ 0.25085555],\n",
       "       [ 0.09071798],\n",
       "       [ 0.41559303],\n",
       "       [ 0.41711561],\n",
       "       [ 0.60725801],\n",
       "       [ 0.40592698],\n",
       "       [ 0.06577245],\n",
       "       [ 0.09101943],\n",
       "       [ 0.4170437 ],\n",
       "       [ 0.93264263],\n",
       "       [ 0.23337097],\n",
       "       [ 0.2517737 ],\n",
       "       [ 0.09106688],\n",
       "       [ 0.09100261],\n",
       "       [ 0.2517737 ],\n",
       "       [ 0.09104088],\n",
       "       [ 0.09081898],\n",
       "       [ 0.09103169],\n",
       "       [ 0.05057714],\n",
       "       [ 0.09063535],\n",
       "       [ 0.09702564],\n",
       "       [ 0.73266107],\n",
       "       [ 0.95386556],\n",
       "       [ 0.38270602],\n",
       "       [ 0.70718863],\n",
       "       [-0.05937193],\n",
       "       [ 0.06739452],\n",
       "       [ 0.41887999],\n",
       "       [ 0.92418086],\n",
       "       [ 0.09101943],\n",
       "       [ 0.09104088],\n",
       "       [ 0.77280346],\n",
       "       [ 0.76323484],\n",
       "       [ 0.60732228],\n",
       "       [ 0.91111565],\n",
       "       [ 0.40792545],\n",
       "       [ 0.09111278],\n",
       "       [ 0.45688347],\n",
       "       [ 0.05352131],\n",
       "       [ 0.39486024],\n",
       "       [ 0.56802   ],\n",
       "       [ 0.09104088],\n",
       "       [ 0.22908526],\n",
       "       [ 0.74470869],\n",
       "       [ 0.06588263],\n",
       "       [ 0.92442827],\n",
       "       [ 0.40584232],\n",
       "       [ 0.93227842],\n",
       "       [ 0.0908098 ],\n",
       "       [ 0.09105615],\n",
       "       [ 0.25085555],\n",
       "       [ 0.92274704],\n",
       "       [ 0.48460694],\n",
       "       [ 0.03992868],\n",
       "       [ 0.95072855],\n",
       "       [ 0.4116266 ],\n",
       "       [ 0.92274704],\n",
       "       [ 0.92538208],\n",
       "       [ 0.76766184]])"
      ]
     },
     "execution_count": 62,
     "metadata": {},
     "output_type": "execute_result"
    }
   ],
   "source": [
    "predictions"
   ]
  },
  {
   "cell_type": "code",
   "execution_count": 63,
   "id": "42da52c3",
   "metadata": {},
   "outputs": [
    {
     "data": {
      "text/plain": [
       "array([[0],\n",
       "       [1],\n",
       "       [1],\n",
       "       [0],\n",
       "       [1],\n",
       "       [1],\n",
       "       [1],\n",
       "       [0],\n",
       "       [0],\n",
       "       [0],\n",
       "       [0],\n",
       "       [0],\n",
       "       [0],\n",
       "       [1],\n",
       "       [0],\n",
       "       [0],\n",
       "       [0],\n",
       "       [0],\n",
       "       [1],\n",
       "       [1],\n",
       "       [0],\n",
       "       [1],\n",
       "       [0],\n",
       "       [0],\n",
       "       [0],\n",
       "       [1],\n",
       "       [0],\n",
       "       [0],\n",
       "       [1],\n",
       "       [0],\n",
       "       [0],\n",
       "       [1],\n",
       "       [0],\n",
       "       [1],\n",
       "       [0],\n",
       "       [0],\n",
       "       [0],\n",
       "       [0],\n",
       "       [1],\n",
       "       [1],\n",
       "       [1],\n",
       "       [1],\n",
       "       [1],\n",
       "       [1],\n",
       "       [1],\n",
       "       [1],\n",
       "       [0],\n",
       "       [0],\n",
       "       [1],\n",
       "       [0],\n",
       "       [0],\n",
       "       [0],\n",
       "       [0],\n",
       "       [0],\n",
       "       [1],\n",
       "       [1],\n",
       "       [0],\n",
       "       [0],\n",
       "       [1],\n",
       "       [1],\n",
       "       [1],\n",
       "       [0],\n",
       "       [0],\n",
       "       [0],\n",
       "       [0],\n",
       "       [0],\n",
       "       [0],\n",
       "       [1],\n",
       "       [0],\n",
       "       [0],\n",
       "       [1],\n",
       "       [0],\n",
       "       [0],\n",
       "       [0],\n",
       "       [0],\n",
       "       [1],\n",
       "       [1],\n",
       "       [0],\n",
       "       [0],\n",
       "       [0],\n",
       "       [0],\n",
       "       [0],\n",
       "       [0],\n",
       "       [0],\n",
       "       [1],\n",
       "       [1],\n",
       "       [1],\n",
       "       [0],\n",
       "       [0],\n",
       "       [1],\n",
       "       [0],\n",
       "       [0],\n",
       "       [1],\n",
       "       [1],\n",
       "       [0],\n",
       "       [1],\n",
       "       [0],\n",
       "       [0],\n",
       "       [0],\n",
       "       [0],\n",
       "       [0],\n",
       "       [0],\n",
       "       [0],\n",
       "       [1],\n",
       "       [0],\n",
       "       [1],\n",
       "       [1],\n",
       "       [0],\n",
       "       [1],\n",
       "       [1],\n",
       "       [0],\n",
       "       [1],\n",
       "       [1],\n",
       "       [1],\n",
       "       [0],\n",
       "       [0],\n",
       "       [0],\n",
       "       [0],\n",
       "       [1],\n",
       "       [0],\n",
       "       [1],\n",
       "       [1],\n",
       "       [1],\n",
       "       [0],\n",
       "       [1],\n",
       "       [0],\n",
       "       [0],\n",
       "       [1],\n",
       "       [0],\n",
       "       [0],\n",
       "       [0],\n",
       "       [1],\n",
       "       [1],\n",
       "       [1],\n",
       "       [1],\n",
       "       [1],\n",
       "       [0],\n",
       "       [1],\n",
       "       [1],\n",
       "       [1],\n",
       "       [0],\n",
       "       [1],\n",
       "       [1],\n",
       "       [0],\n",
       "       [0],\n",
       "       [1],\n",
       "       [1],\n",
       "       [1],\n",
       "       [1],\n",
       "       [1],\n",
       "       [0],\n",
       "       [0],\n",
       "       [0],\n",
       "       [1],\n",
       "       [0],\n",
       "       [0],\n",
       "       [0],\n",
       "       [0],\n",
       "       [0],\n",
       "       [1],\n",
       "       [1],\n",
       "       [1],\n",
       "       [0],\n",
       "       [0],\n",
       "       [0],\n",
       "       [1],\n",
       "       [0],\n",
       "       [0],\n",
       "       [1],\n",
       "       [0],\n",
       "       [0],\n",
       "       [0],\n",
       "       [0],\n",
       "       [1],\n",
       "       [0],\n",
       "       [1],\n",
       "       [0],\n",
       "       [0],\n",
       "       [1],\n",
       "       [0],\n",
       "       [0],\n",
       "       [0],\n",
       "       [1],\n",
       "       [0],\n",
       "       [0],\n",
       "       [0],\n",
       "       [0],\n",
       "       [0],\n",
       "       [0],\n",
       "       [1],\n",
       "       [1],\n",
       "       [1],\n",
       "       [0],\n",
       "       [0],\n",
       "       [0],\n",
       "       [0],\n",
       "       [0],\n",
       "       [0],\n",
       "       [1],\n",
       "       [0],\n",
       "       [0],\n",
       "       [0],\n",
       "       [0],\n",
       "       [1],\n",
       "       [0],\n",
       "       [0],\n",
       "       [1],\n",
       "       [1],\n",
       "       [0],\n",
       "       [0],\n",
       "       [1],\n",
       "       [0],\n",
       "       [0],\n",
       "       [1],\n",
       "       [1],\n",
       "       [0],\n",
       "       [1],\n",
       "       [1],\n",
       "       [0],\n",
       "       [1],\n",
       "       [0],\n",
       "       [1],\n",
       "       [0],\n",
       "       [0],\n",
       "       [0],\n",
       "       [0],\n",
       "       [0],\n",
       "       [0],\n",
       "       [0],\n",
       "       [0],\n",
       "       [1],\n",
       "       [1],\n",
       "       [0],\n",
       "       [1],\n",
       "       [0],\n",
       "       [0],\n",
       "       [0],\n",
       "       [1],\n",
       "       [1],\n",
       "       [0],\n",
       "       [1],\n",
       "       [1],\n",
       "       [1],\n",
       "       [1],\n",
       "       [0],\n",
       "       [0],\n",
       "       [0],\n",
       "       [1],\n",
       "       [0],\n",
       "       [0],\n",
       "       [0],\n",
       "       [0],\n",
       "       [1],\n",
       "       [0],\n",
       "       [1],\n",
       "       [0],\n",
       "       [1],\n",
       "       [0],\n",
       "       [0],\n",
       "       [0],\n",
       "       [1],\n",
       "       [0],\n",
       "       [0],\n",
       "       [1],\n",
       "       [1],\n",
       "       [1],\n",
       "       [0],\n",
       "       [1]], dtype=int64)"
      ]
     },
     "execution_count": 63,
     "metadata": {},
     "output_type": "execute_result"
    }
   ],
   "source": [
    "y_test"
   ]
  },
  {
   "cell_type": "code",
   "execution_count": 64,
   "id": "19c7c58a",
   "metadata": {},
   "outputs": [
    {
     "name": "stdout",
     "output_type": "stream",
     "text": [
      "Accuracy Score = 0.3756368643036233\n"
     ]
    }
   ],
   "source": [
    "# measure the accuracy score\n",
    "print(f'Accuracy Score = {model.score(X_train,y_train)}')"
   ]
  },
  {
   "cell_type": "markdown",
   "id": "6664f494",
   "metadata": {},
   "source": [
    "###### The accuracy score of this model is 0.35, meaning the model's performance is very low"
   ]
  },
  {
   "cell_type": "markdown",
   "id": "fc866ef9",
   "metadata": {},
   "source": [
    "## Titanic Dataset Survival Analysis Summary"
   ]
  },
  {
   "cell_type": "markdown",
   "id": "13f6b045",
   "metadata": {},
   "source": [
    "### The analysis aimed to explore and gain insights from the Titanic dataset, providing valuable information about passengers who were on board the Titanic. The primary objectives included data exploration, survival rate calculation, and investigating the impact of various factors on passenger survival.\n",
    "\n",
    "## Data Exploration:\n",
    "### Categorical Data: \n",
    "#### Categorical data such as gender (converted to numeric), ticket class, and port of embarkation were explored.\n",
    "#### Numerical Data: Age distribution, spread of numerical variables, and the presence of outliers were examined.\n",
    "\n",
    "### Key Findings:\n",
    "#### 1. Survival Rate:\n",
    "#### Approximately 38.38% of passengers survived the Titanic.\n",
    "\n",
    "#### 2. Ticket Class (Pclass) and Survival:\n",
    "####  First-class ticket holders had a higher survival rate compared to second and third-class passengers.\n",
    "\n",
    "#### 3. Gender and Survival:\n",
    "#### There was a moderate positive correlation between gender (female) and survival, indicating that being female increased one's chances of survival.\n",
    "\n",
    "#### 4. Age and Survival:\n",
    "#### The average age of survivors was around 28 years, while non-survivors had an average age of approximately 31 years.\n",
    "\n",
    "#### 5. Siblings/Spouses (SibSp) and Survival:\n",
    "#### Passengers with one sibling or spouse had the highest survival rate, while those with more than four siblings had the lowest survival rate.\n",
    "\n",
    "#### 6. Port of Embarkation and Survival:\n",
    "#### Passengers embarking from Cherbourg had a higher survival rate compared to other ports.\n",
    "\n",
    "#### 7. Fare and Survival:\n",
    "#### Paying a higher fare had a weak positive correlation with survival, suggesting that passengers with higher fares had a slightly better chance of survival.\n",
    "\n",
    "#### 8. Age and Ticket Class Correlation:\n",
    "#### There was a negative correlation between a passenger's age and their ticket class, indicating that younger passengers tended to have higher-class tickets.\n",
    "\n",
    "### Additional Insights:\n",
    "#### 1. Age Distribution:\n",
    "#### The majority of passengers were in the 20-30 years age range.\n",
    "\n",
    "#### 2. Port of Embarkation:\n",
    "#### While Cherbourg had the highest survival rate, the reason remains unclear and may require further investigation.\n",
    "\n",
    "#### Linear Regression Model:\n",
    "#### A linear regression model was built to predict passenger survival based on features such as ticket class, gender, number of siblings/spouses, fare, and number of parents/children. However, the model's performance was found to be low, with an accuracy score of only 0.35, indicating the need for more sophisticated models or additional feature engineering.\n",
    "\n",
    "### In conclusion, this analysis provides valuable insights into the factors that influenced passenger survival on the Titanic. Factors such as ticket class, gender, age, and family relationships played a significant role in determining survival rates. Further analysis and model improvement may help uncover more complex relationships within the dataset."
   ]
  }
 ],
 "metadata": {
  "kernelspec": {
   "display_name": "Python 3 (ipykernel)",
   "language": "python",
   "name": "python3"
  },
  "language_info": {
   "codemirror_mode": {
    "name": "ipython",
    "version": 3
   },
   "file_extension": ".py",
   "mimetype": "text/x-python",
   "name": "python",
   "nbconvert_exporter": "python",
   "pygments_lexer": "ipython3",
   "version": "3.10.9"
  }
 },
 "nbformat": 4,
 "nbformat_minor": 5
}
